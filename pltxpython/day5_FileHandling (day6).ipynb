{
 "cells": [
  {
   "cell_type": "markdown",
   "source": [
    "## Module và Package"
   ],
   "metadata": {}
  },
  {
   "cell_type": "code",
   "execution_count": 7,
   "source": [
    "import math\r\n",
    "math.pi"
   ],
   "outputs": [
    {
     "output_type": "execute_result",
     "data": {
      "text/plain": [
       "3.141592653589793"
      ]
     },
     "metadata": {},
     "execution_count": 7
    }
   ],
   "metadata": {}
  },
  {
   "cell_type": "code",
   "execution_count": 8,
   "source": [
    "num_list = [0.1]*10\r\n",
    "sum(num_list)"
   ],
   "outputs": [
    {
     "output_type": "execute_result",
     "data": {
      "text/plain": [
       "0.9999999999999999"
      ]
     },
     "metadata": {},
     "execution_count": 8
    }
   ],
   "metadata": {}
  },
  {
   "cell_type": "code",
   "execution_count": 4,
   "source": [
    "math.fsum(num_list)"
   ],
   "outputs": [
    {
     "output_type": "execute_result",
     "data": {
      "text/plain": [
       "1.0"
      ]
     },
     "metadata": {},
     "execution_count": 4
    }
   ],
   "metadata": {}
  },
  {
   "cell_type": "code",
   "execution_count": 9,
   "source": [
    "import database     # module database.py, chứa class Database\r\n",
    "db = database.Database() \r\n",
    "# Do queries on db "
   ],
   "outputs": [
    {
     "output_type": "error",
     "ename": "ModuleNotFoundError",
     "evalue": "No module named 'database'",
     "traceback": [
      "\u001b[1;31m---------------------------------------------------------------------------\u001b[0m",
      "\u001b[1;31mModuleNotFoundError\u001b[0m                       Traceback (most recent call last)",
      "\u001b[1;32mC:\\Users\\PHUONG~1\\AppData\\Local\\Temp/ipykernel_17772/4115509569.py\u001b[0m in \u001b[0;36m<module>\u001b[1;34m\u001b[0m\n\u001b[1;32m----> 1\u001b[1;33m \u001b[1;32mimport\u001b[0m \u001b[0mdatabase\u001b[0m     \u001b[1;31m# module database.py, chứa class Database\u001b[0m\u001b[1;33m\u001b[0m\u001b[1;33m\u001b[0m\u001b[0m\n\u001b[0m\u001b[0;32m      2\u001b[0m \u001b[0mdb\u001b[0m \u001b[1;33m=\u001b[0m \u001b[0mdatabase\u001b[0m\u001b[1;33m.\u001b[0m\u001b[0mDatabase\u001b[0m\u001b[1;33m(\u001b[0m\u001b[1;33m)\u001b[0m\u001b[1;33m\u001b[0m\u001b[1;33m\u001b[0m\u001b[0m\n\u001b[0;32m      3\u001b[0m \u001b[1;31m# Do queries on db\u001b[0m\u001b[1;33m\u001b[0m\u001b[1;33m\u001b[0m\u001b[1;33m\u001b[0m\u001b[0m\n",
      "\u001b[1;31mModuleNotFoundError\u001b[0m: No module named 'database'"
     ]
    }
   ],
   "metadata": {}
  },
  {
   "cell_type": "code",
   "execution_count": 10,
   "source": [
    "from database import Database \r\n",
    "db = Database() \r\n",
    "# Do queries on db "
   ],
   "outputs": [
    {
     "output_type": "error",
     "ename": "ModuleNotFoundError",
     "evalue": "No module named 'database'",
     "traceback": [
      "\u001b[1;31m---------------------------------------------------------------------------\u001b[0m",
      "\u001b[1;31mModuleNotFoundError\u001b[0m                       Traceback (most recent call last)",
      "\u001b[1;32mC:\\Users\\PHUONG~1\\AppData\\Local\\Temp/ipykernel_17772/3363064341.py\u001b[0m in \u001b[0;36m<module>\u001b[1;34m\u001b[0m\n\u001b[1;32m----> 1\u001b[1;33m \u001b[1;32mfrom\u001b[0m \u001b[0mdatabase\u001b[0m \u001b[1;32mimport\u001b[0m \u001b[0mDatabase\u001b[0m\u001b[1;33m\u001b[0m\u001b[1;33m\u001b[0m\u001b[0m\n\u001b[0m\u001b[0;32m      2\u001b[0m \u001b[0mdb\u001b[0m \u001b[1;33m=\u001b[0m \u001b[0mDatabase\u001b[0m\u001b[1;33m(\u001b[0m\u001b[1;33m)\u001b[0m\u001b[1;33m\u001b[0m\u001b[1;33m\u001b[0m\u001b[0m\n\u001b[0;32m      3\u001b[0m \u001b[1;31m# Do queries on db\u001b[0m\u001b[1;33m\u001b[0m\u001b[1;33m\u001b[0m\u001b[1;33m\u001b[0m\u001b[0m\n",
      "\u001b[1;31mModuleNotFoundError\u001b[0m: No module named 'database'"
     ]
    }
   ],
   "metadata": {}
  },
  {
   "cell_type": "code",
   "execution_count": null,
   "source": [
    "from database import Database as DB         # tránh trùng tên với class Database trong namespace hiện tại. Hoặc đơn giản là ngắn gọn hơn\r\n",
    "db = DB() \r\n",
    "# Do queries on db "
   ],
   "outputs": [],
   "metadata": {}
  },
  {
   "cell_type": "code",
   "execution_count": null,
   "source": [
    "from database import Database, Query "
   ],
   "outputs": [],
   "metadata": {}
  },
  {
   "cell_type": "code",
   "execution_count": null,
   "source": [
    "from database import *  # DON'T DO THIS, code maintannce is a nightmare"
   ],
   "outputs": [],
   "metadata": {}
  },
  {
   "cell_type": "code",
   "execution_count": null,
   "source": [
    "import this     # for fun"
   ],
   "outputs": [],
   "metadata": {}
  },
  {
   "cell_type": "markdown",
   "source": [
    "```\r\n",
    "parent_directory/ \r\n",
    "    main.py \r\n",
    "    ecommerce/ \r\n",
    "        __init__.py \r\n",
    "        database.py \r\n",
    "        products.py \r\n",
    "        payments/ \r\n",
    "            __init__.py \r\n",
    "            square.py \r\n",
    "            stripe.py \r\n",
    "```"
   ],
   "metadata": {}
  },
  {
   "cell_type": "code",
   "execution_count": 6,
   "source": [
    "# Absolute path. Works in Python site packages folder, or the PYTHONPATH environment variable\r\n",
    "import ecommerce.products \r\n",
    "product = ecommerce.products.Product()\r\n",
    "\r\n",
    "# or\r\n",
    "\r\n",
    "from ecommerce.products import Product \r\n",
    "product = Product()\r\n",
    "\r\n",
    "# or\r\n",
    "\r\n",
    "from ecommerce import products \r\n",
    "product = products.Product()"
   ],
   "outputs": [
    {
     "output_type": "error",
     "ename": "AttributeError",
     "evalue": "module 'ecommerce.products' has no attribute 'Product'",
     "traceback": [
      "\u001b[1;31m---------------------------------------------------------------------------\u001b[0m",
      "\u001b[1;31mAttributeError\u001b[0m                            Traceback (most recent call last)",
      "\u001b[1;32mC:\\Users\\PHUONG~1\\AppData\\Local\\Temp/ipykernel_17772/3391860084.py\u001b[0m in \u001b[0;36m<module>\u001b[1;34m\u001b[0m\n\u001b[0;32m      1\u001b[0m \u001b[1;31m# Absolute path. Works in Python site packages folder, or the PYTHONPATH environment variable\u001b[0m\u001b[1;33m\u001b[0m\u001b[1;33m\u001b[0m\u001b[1;33m\u001b[0m\u001b[0m\n\u001b[0;32m      2\u001b[0m \u001b[1;32mimport\u001b[0m \u001b[0mecommerce\u001b[0m\u001b[1;33m.\u001b[0m\u001b[0mproducts\u001b[0m\u001b[1;33m\u001b[0m\u001b[1;33m\u001b[0m\u001b[0m\n\u001b[1;32m----> 3\u001b[1;33m \u001b[0mproduct\u001b[0m \u001b[1;33m=\u001b[0m \u001b[0mecommerce\u001b[0m\u001b[1;33m.\u001b[0m\u001b[0mproducts\u001b[0m\u001b[1;33m.\u001b[0m\u001b[0mProduct\u001b[0m\u001b[1;33m(\u001b[0m\u001b[1;33m)\u001b[0m\u001b[1;33m\u001b[0m\u001b[1;33m\u001b[0m\u001b[0m\n\u001b[0m\u001b[0;32m      4\u001b[0m \u001b[1;33m\u001b[0m\u001b[0m\n\u001b[0;32m      5\u001b[0m \u001b[1;31m# or\u001b[0m\u001b[1;33m\u001b[0m\u001b[1;33m\u001b[0m\u001b[1;33m\u001b[0m\u001b[0m\n",
      "\u001b[1;31mAttributeError\u001b[0m: module 'ecommerce.products' has no attribute 'Product'"
     ]
    }
   ],
   "metadata": {}
  },
  {
   "cell_type": "code",
   "execution_count": 11,
   "source": [
    "# Relative import\r\n",
    "from .database import Database      # use the database module inside the current package"
   ],
   "outputs": [
    {
     "output_type": "error",
     "ename": "ImportError",
     "evalue": "attempted relative import with no known parent package",
     "traceback": [
      "\u001b[1;31m---------------------------------------------------------------------------\u001b[0m",
      "\u001b[1;31mImportError\u001b[0m                               Traceback (most recent call last)",
      "\u001b[1;32mC:\\Users\\PHUONG~1\\AppData\\Local\\Temp/ipykernel_17772/792697831.py\u001b[0m in \u001b[0;36m<module>\u001b[1;34m\u001b[0m\n\u001b[0;32m      1\u001b[0m \u001b[1;31m# Relative import\u001b[0m\u001b[1;33m\u001b[0m\u001b[1;33m\u001b[0m\u001b[1;33m\u001b[0m\u001b[0m\n\u001b[1;32m----> 2\u001b[1;33m \u001b[1;32mfrom\u001b[0m \u001b[1;33m.\u001b[0m\u001b[0mdatabase\u001b[0m \u001b[1;32mimport\u001b[0m \u001b[0mDatabase\u001b[0m      \u001b[1;31m# use the database module inside the current package\u001b[0m\u001b[1;33m\u001b[0m\u001b[1;33m\u001b[0m\u001b[0m\n\u001b[0m",
      "\u001b[1;31mImportError\u001b[0m: attempted relative import with no known parent package"
     ]
    }
   ],
   "metadata": {}
  },
  {
   "cell_type": "code",
   "execution_count": 12,
   "source": [
    "from ..database import Database     # use the database package inside the parent package"
   ],
   "outputs": [
    {
     "output_type": "error",
     "ename": "ImportError",
     "evalue": "attempted relative import with no known parent package",
     "traceback": [
      "\u001b[1;31m---------------------------------------------------------------------------\u001b[0m",
      "\u001b[1;31mImportError\u001b[0m                               Traceback (most recent call last)",
      "\u001b[1;32mC:\\Users\\PHUONG~1\\AppData\\Local\\Temp/ipykernel_17772/2213728425.py\u001b[0m in \u001b[0;36m<module>\u001b[1;34m\u001b[0m\n\u001b[1;32m----> 1\u001b[1;33m \u001b[1;32mfrom\u001b[0m \u001b[1;33m.\u001b[0m\u001b[1;33m.\u001b[0m\u001b[0mdatabase\u001b[0m \u001b[1;32mimport\u001b[0m \u001b[0mDatabase\u001b[0m     \u001b[1;31m# use the database package inside the parent package\u001b[0m\u001b[1;33m\u001b[0m\u001b[1;33m\u001b[0m\u001b[0m\n\u001b[0m",
      "\u001b[1;31mImportError\u001b[0m: attempted relative import with no known parent package"
     ]
    }
   ],
   "metadata": {}
  },
  {
   "cell_type": "markdown",
   "source": [
    "## Các cách thực thi chương trình Python\r\n",
    "1. Chạy từng lệnh tương tác (interactive) như ở notebook này hoặc dưới command line (>>>)\r\n",
    "2. Dùng lệnh python hoặc python3. Redirect output với > hoặc >> (python .\\hackathon1\\easy\\basic.py)\r\n",
    "3. Chạy module với -m (phải nằm ở thư mục hiện hành, hoặc trong Python Module Search Path (PMSP))"
   ],
   "metadata": {}
  },
  {
   "cell_type": "code",
   "execution_count": 14,
   "source": [
    "!python -m pt_b4.py\r\n",
    "# %run hello.py"
   ],
   "outputs": [
    {
     "output_type": "stream",
     "name": "stdout",
     "text": [
      "-----------------------------------------------------\n",
      "Buổi 4 - Bài 1, count string Upper/Lower/Degit\n",
      "Chuỗi gốc:  Hello World! 123\n",
      "Count character kiểu a nhiều buildin:  {'UPPER CASE': 2, 'LOWER CASE': 8, 'DIGIT': 3}\n",
      "Count character kiểu b 1 buildin ord:  {'UPPER CASE': 2, 'LOWER CASE': 8, 'DIGIT': 3}\n",
      "-----------------------------------------------------\n",
      "Buổi 4 - Bài 2, tính mean, median, mode của list\n",
      "A =  [7, 8, 9, 2, 10, 9, 9, 9, 9, 4, 5, 6, 1, 5, 6, 7, 8, 6, 1, 10] ==> (mean(A), median(A), mode(A)) ==  [6.55, 7.0, [9]]\n"
     ]
    },
    {
     "output_type": "stream",
     "name": "stderr",
     "text": [
      "C:\\Python37\\python.exe: Error while finding module specification for 'pt_b4.py' (ModuleNotFoundError: __path__ attribute not found on 'pt_b4' while trying to find 'pt_b4.py')\n"
     ]
    }
   ],
   "metadata": {}
  },
  {
   "cell_type": "code",
   "execution_count": 15,
   "source": [
    "import sys\r\n",
    "for path in sys.path:\r\n",
    "    print(path)"
   ],
   "outputs": [
    {
     "output_type": "stream",
     "name": "stdout",
     "text": [
      "d:\\Learning\\Python\\Phuongltx_hoc_code\\pltxpython\n",
      "c:\\Users\\phuongltx\\.vscode\\extensions\\ms-toolsai.jupyter-2021.8.2041215044\\pythonFiles\n",
      "c:\\Users\\phuongltx\\.vscode\\extensions\\ms-toolsai.jupyter-2021.8.2041215044\\pythonFiles\\lib\\python\n",
      "C:\\Python37\\python37.zip\n",
      "C:\\Python37\\DLLs\n",
      "C:\\Python37\\lib\n",
      "C:\\Python37\n",
      "\n",
      "C:\\Python37\\lib\\site-packages\n",
      "C:\\Python37\\lib\\site-packages\\win32\n",
      "C:\\Python37\\lib\\site-packages\\win32\\lib\n",
      "C:\\Python37\\lib\\site-packages\\Pythonwin\n",
      "C:\\Python37\\lib\\site-packages\\IPython\\extensions\n",
      "C:\\Users\\phuongltx\\.ipython\n"
     ]
    }
   ],
   "metadata": {}
  },
  {
   "cell_type": "markdown",
   "source": [
    "Một vài cách nâng cao khác:\r\n",
    "\r\n",
    "4. Dùng importlib với hàm import_module() có hỗ trợ reload()\r\n",
    "5. Dùng runpy.run_module() hoặc runpy.run_path()\r\n",
    "6. Dùng exec() theo kiểu của hacker (exec(open('hello.py').read()))"
   ],
   "metadata": {}
  },
  {
   "cell_type": "code",
   "execution_count": 10,
   "source": [
    "import importlib\r\n",
    "importlib.import_module('hello')"
   ],
   "outputs": [
    {
     "output_type": "error",
     "ename": "ModuleNotFoundError",
     "evalue": "No module named 'hello'",
     "traceback": [
      "\u001b[1;31m---------------------------------------------------------------------------\u001b[0m",
      "\u001b[1;31mModuleNotFoundError\u001b[0m                       Traceback (most recent call last)",
      "\u001b[1;32mC:\\Users\\PHUONG~1\\AppData\\Local\\Temp/ipykernel_4524/2775179567.py\u001b[0m in \u001b[0;36m<module>\u001b[1;34m\u001b[0m\n\u001b[0;32m      1\u001b[0m \u001b[1;32mimport\u001b[0m \u001b[0mimportlib\u001b[0m\u001b[1;33m\u001b[0m\u001b[1;33m\u001b[0m\u001b[0m\n\u001b[1;32m----> 2\u001b[1;33m \u001b[0mimportlib\u001b[0m\u001b[1;33m.\u001b[0m\u001b[0mimport_module\u001b[0m\u001b[1;33m(\u001b[0m\u001b[1;34m'hello'\u001b[0m\u001b[1;33m)\u001b[0m\u001b[1;33m\u001b[0m\u001b[1;33m\u001b[0m\u001b[0m\n\u001b[0m",
      "\u001b[1;32mC:\\Python37\\lib\\importlib\\__init__.py\u001b[0m in \u001b[0;36mimport_module\u001b[1;34m(name, package)\u001b[0m\n\u001b[0;32m    125\u001b[0m                 \u001b[1;32mbreak\u001b[0m\u001b[1;33m\u001b[0m\u001b[1;33m\u001b[0m\u001b[0m\n\u001b[0;32m    126\u001b[0m             \u001b[0mlevel\u001b[0m \u001b[1;33m+=\u001b[0m \u001b[1;36m1\u001b[0m\u001b[1;33m\u001b[0m\u001b[1;33m\u001b[0m\u001b[0m\n\u001b[1;32m--> 127\u001b[1;33m     \u001b[1;32mreturn\u001b[0m \u001b[0m_bootstrap\u001b[0m\u001b[1;33m.\u001b[0m\u001b[0m_gcd_import\u001b[0m\u001b[1;33m(\u001b[0m\u001b[0mname\u001b[0m\u001b[1;33m[\u001b[0m\u001b[0mlevel\u001b[0m\u001b[1;33m:\u001b[0m\u001b[1;33m]\u001b[0m\u001b[1;33m,\u001b[0m \u001b[0mpackage\u001b[0m\u001b[1;33m,\u001b[0m \u001b[0mlevel\u001b[0m\u001b[1;33m)\u001b[0m\u001b[1;33m\u001b[0m\u001b[1;33m\u001b[0m\u001b[0m\n\u001b[0m\u001b[0;32m    128\u001b[0m \u001b[1;33m\u001b[0m\u001b[0m\n\u001b[0;32m    129\u001b[0m \u001b[1;33m\u001b[0m\u001b[0m\n",
      "\u001b[1;32mC:\\Python37\\lib\\importlib\\_bootstrap.py\u001b[0m in \u001b[0;36m_gcd_import\u001b[1;34m(name, package, level)\u001b[0m\n",
      "\u001b[1;32mC:\\Python37\\lib\\importlib\\_bootstrap.py\u001b[0m in \u001b[0;36m_find_and_load\u001b[1;34m(name, import_)\u001b[0m\n",
      "\u001b[1;32mC:\\Python37\\lib\\importlib\\_bootstrap.py\u001b[0m in \u001b[0;36m_find_and_load_unlocked\u001b[1;34m(name, import_)\u001b[0m\n",
      "\u001b[1;31mModuleNotFoundError\u001b[0m: No module named 'hello'"
     ]
    }
   ],
   "metadata": {}
  },
  {
   "cell_type": "code",
   "execution_count": null,
   "source": [
    "# run interactively in commandline\r\n",
    "import hello\r\n",
    "import hello  # Second import, which does nothing\r\n",
    "importlib.reload(hello)"
   ],
   "outputs": [],
   "metadata": {}
  },
  {
   "cell_type": "code",
   "execution_count": null,
   "source": [
    "import runpy\r\n",
    "runpy.run_path(path_name='../hackathon1/easy/basic.py')"
   ],
   "outputs": [],
   "metadata": {}
  },
  {
   "cell_type": "markdown",
   "source": [
    "## Hàm main() và `__name__ `\r\n",
    "\r\n",
    "Các best practises:\r\n",
    "1. Đặt hầu hết mã vào các function hoặc class.\r\n",
    "2. Sử dụng __name__ để kiểm soát việc thực thi mã.\r\n",
    "3. Tạo một hàm có tên là main() để chứa mã bạn muốn chạy.\r\n",
    "4. Gọi các hàm khác từ hàm main().\r\n",
    "\r\n",
    "Câu hỏi: Tại sao không nên đặt nhiều code trong điều kiện `if __name__ == \"__main__\": `?"
   ],
   "metadata": {}
  },
  {
   "cell_type": "markdown",
   "source": [
    "## Đọc nội dung 1 file"
   ],
   "metadata": {}
  },
  {
   "cell_type": "code",
   "execution_count": 15,
   "source": [
    "import os\r\n",
    "os.getcwd()"
   ],
   "outputs": [
    {
     "output_type": "execute_result",
     "data": {
      "text/plain": [
       "'d:\\\\Learning\\\\Python\\\\Phuongltx_hoc_code\\\\pltxpython'"
      ]
     },
     "metadata": {},
     "execution_count": 15
    }
   ],
   "metadata": {}
  },
  {
   "cell_type": "code",
   "execution_count": 21,
   "source": [
    "open(\"../filekhongtontai.txt\")      # đường dẫn tuyệt đối và đường dẫn tương đối"
   ],
   "outputs": [
    {
     "output_type": "error",
     "ename": "FileNotFoundError",
     "evalue": "[Errno 2] No such file or directory: '../text.txt'",
     "traceback": [
      "\u001b[1;31m---------------------------------------------------------------------------\u001b[0m",
      "\u001b[1;31mFileNotFoundError\u001b[0m                         Traceback (most recent call last)",
      "\u001b[1;32mC:\\Users\\PHUONG~1\\AppData\\Local\\Temp/ipykernel_4524/4218284052.py\u001b[0m in \u001b[0;36m<module>\u001b[1;34m\u001b[0m\n\u001b[1;32m----> 1\u001b[1;33m \u001b[0mopen\u001b[0m\u001b[1;33m(\u001b[0m\u001b[1;34m\"../text.txt\"\u001b[0m\u001b[1;33m)\u001b[0m      \u001b[1;31m# đường dẫn tuyệt đối và đường dẫn tương đối\u001b[0m\u001b[1;33m\u001b[0m\u001b[1;33m\u001b[0m\u001b[0m\n\u001b[0m",
      "\u001b[1;31mFileNotFoundError\u001b[0m: [Errno 2] No such file or directory: '../text.txt'"
     ]
    }
   ],
   "metadata": {}
  },
  {
   "cell_type": "code",
   "execution_count": 29,
   "source": [
    "open(\"D:\\Learning\\Python\\Phuongltx_hoc_code\\pltxpython\\text.txt\")  "
   ],
   "outputs": [
    {
     "output_type": "error",
     "ename": "OSError",
     "evalue": "[Errno 22] Invalid argument: 'D:\\\\Learning\\\\Python\\\\Phuongltx_hoc_code\\\\pltxpython\\text.txt'",
     "traceback": [
      "\u001b[1;31m---------------------------------------------------------------------------\u001b[0m",
      "\u001b[1;31mOSError\u001b[0m                                   Traceback (most recent call last)",
      "\u001b[1;32mC:\\Users\\PHUONG~1\\AppData\\Local\\Temp/ipykernel_4524/3934365040.py\u001b[0m in \u001b[0;36m<module>\u001b[1;34m\u001b[0m\n\u001b[1;32m----> 1\u001b[1;33m \u001b[0mopen\u001b[0m\u001b[1;33m(\u001b[0m\u001b[1;34m\"D:\\Learning\\Python\\Phuongltx_hoc_code\\pltxpython\\text.txt\"\u001b[0m\u001b[1;33m)\u001b[0m\u001b[1;33m\u001b[0m\u001b[1;33m\u001b[0m\u001b[0m\n\u001b[0m",
      "\u001b[1;31mOSError\u001b[0m: [Errno 22] Invalid argument: 'D:\\\\Learning\\\\Python\\\\Phuongltx_hoc_code\\\\pltxpython\\text.txt'"
     ]
    }
   ],
   "metadata": {}
  },
  {
   "cell_type": "code",
   "execution_count": 28,
   "source": [
    "open(\"d:\\\\Learning\\\\Python\\\\Phuongltx_hoc_code\\\\pltxpython/text.txt\", 'r')  "
   ],
   "outputs": [
    {
     "output_type": "execute_result",
     "data": {
      "text/plain": [
       "<_io.TextIOWrapper name='d:\\\\Learning\\\\Python\\\\Phuongltx_hoc_code\\\\pltxpython/text.txt' mode='r' encoding='cp1252'>"
      ]
     },
     "metadata": {},
     "execution_count": 28
    }
   ],
   "metadata": {}
  },
  {
   "cell_type": "code",
   "execution_count": 22,
   "source": [
    "open(\"../Pipfile\")"
   ],
   "outputs": [
    {
     "output_type": "error",
     "ename": "FileNotFoundError",
     "evalue": "[Errno 2] No such file or directory: '../text.txt'",
     "traceback": [
      "\u001b[1;31m---------------------------------------------------------------------------\u001b[0m",
      "\u001b[1;31mFileNotFoundError\u001b[0m                         Traceback (most recent call last)",
      "\u001b[1;32mC:\\Users\\PHUONG~1\\AppData\\Local\\Temp/ipykernel_4524/1939704865.py\u001b[0m in \u001b[0;36m<module>\u001b[1;34m\u001b[0m\n\u001b[1;32m----> 1\u001b[1;33m \u001b[0mopen\u001b[0m\u001b[1;33m(\u001b[0m\u001b[1;34m\"../text.txt\"\u001b[0m\u001b[1;33m)\u001b[0m\u001b[1;33m\u001b[0m\u001b[1;33m\u001b[0m\u001b[0m\n\u001b[0m",
      "\u001b[1;31mFileNotFoundError\u001b[0m: [Errno 2] No such file or directory: '../text.txt'"
     ]
    }
   ],
   "metadata": {}
  },
  {
   "cell_type": "code",
   "execution_count": 30,
   "source": [
    "!dir .."
   ],
   "outputs": [
    {
     "output_type": "stream",
     "name": "stdout",
     "text": [
      " Volume in drive D has no label.\n",
      " Volume Serial Number is 843E-FF70\n",
      "\n",
      " Directory of d:\\Learning\\Python\\Phuongltx_hoc_code\n",
      "\n",
      "Sat 09/11/2021  09:37 AM    <DIR>          .\n",
      "Sat 09/11/2021  09:37 AM    <DIR>          ..\n",
      "Fri 09/03/2021  01:12 PM    <DIR>          pltxhtml\n",
      "Thu 09/16/2021  01:47 AM    <DIR>          pltxpython\n",
      "Sun 09/05/2021  05:14 PM                44 README.md\n",
      "               1 File(s)             44 bytes\n",
      "               4 Dir(s)  103,415,259,136 bytes free\n"
     ]
    }
   ],
   "metadata": {}
  },
  {
   "cell_type": "code",
   "execution_count": 32,
   "source": [
    "!type ..\\Pipfile"
   ],
   "outputs": [
    {
     "output_type": "stream",
     "name": "stderr",
     "text": [
      "The system cannot find the file specified.\n"
     ]
    }
   ],
   "metadata": {}
  },
  {
   "cell_type": "code",
   "execution_count": null,
   "source": [
    "file = open(\"..\\Pipfile\")\r\n",
    "file"
   ],
   "outputs": [],
   "metadata": {}
  },
  {
   "cell_type": "code",
   "execution_count": null,
   "source": [
    "file = open(\"..\\Pipfile\", mode='r')\r\n",
    "file.read()"
   ],
   "outputs": [],
   "metadata": {}
  },
  {
   "cell_type": "code",
   "execution_count": null,
   "source": [
    "file.read()"
   ],
   "outputs": [],
   "metadata": {}
  },
  {
   "cell_type": "code",
   "execution_count": null,
   "source": [
    "file.seek(0)        # vị trí byte số 0"
   ],
   "outputs": [],
   "metadata": {}
  },
  {
   "cell_type": "code",
   "execution_count": null,
   "source": [
    "file.read(5)"
   ],
   "outputs": [],
   "metadata": {}
  },
  {
   "cell_type": "code",
   "execution_count": null,
   "source": [
    "file.read(6)"
   ],
   "outputs": [],
   "metadata": {}
  },
  {
   "cell_type": "code",
   "execution_count": null,
   "source": [
    "file.tell()"
   ],
   "outputs": [],
   "metadata": {}
  },
  {
   "cell_type": "code",
   "execution_count": null,
   "source": [
    "file.read()"
   ],
   "outputs": [],
   "metadata": {}
  },
  {
   "cell_type": "code",
   "execution_count": null,
   "source": [
    "file.close()"
   ],
   "outputs": [],
   "metadata": {}
  },
  {
   "cell_type": "code",
   "execution_count": null,
   "source": [
    "file.read()"
   ],
   "outputs": [],
   "metadata": {}
  },
  {
   "cell_type": "markdown",
   "source": [
    "## Viết và thêm nội dung vào File"
   ],
   "metadata": {}
  },
  {
   "cell_type": "code",
   "execution_count": null,
   "source": [
    "file = open(\"..\\Pipfile\", mode='r')\r\n",
    "file.readline()"
   ],
   "outputs": [],
   "metadata": {}
  },
  {
   "cell_type": "code",
   "execution_count": null,
   "source": [
    "file.readline()"
   ],
   "outputs": [],
   "metadata": {}
  },
  {
   "cell_type": "code",
   "execution_count": null,
   "source": [
    "file.seek(0)"
   ],
   "outputs": [],
   "metadata": {}
  },
  {
   "cell_type": "code",
   "execution_count": null,
   "source": [
    "file.readlines()"
   ],
   "outputs": [],
   "metadata": {}
  },
  {
   "cell_type": "code",
   "execution_count": null,
   "source": [
    "contents = []\r\n",
    "with open('..\\Pipfile', 'r') as file_again:\r\n",
    "    for line in file_again:\r\n",
    "        contents.append(line.rstrip(\"\\n\"))"
   ],
   "outputs": [],
   "metadata": {}
  },
  {
   "cell_type": "code",
   "execution_count": null,
   "source": [
    "print(contents)"
   ],
   "outputs": [],
   "metadata": {}
  },
  {
   "cell_type": "code",
   "execution_count": null,
   "source": [
    "file.seek(0)"
   ],
   "outputs": [],
   "metadata": {}
  },
  {
   "cell_type": "code",
   "execution_count": null,
   "source": [
    "file_again.seek(0)"
   ],
   "outputs": [],
   "metadata": {}
  },
  {
   "cell_type": "code",
   "execution_count": 33,
   "source": [
    "!type classiccars.txt"
   ],
   "outputs": [
    {
     "output_type": "stream",
     "name": "stdout",
     "text": [
      "phuongltx\n"
     ]
    }
   ],
   "metadata": {}
  },
  {
   "cell_type": "code",
   "execution_count": null,
   "source": [
    "with open('classiccars.txt', 'a') as f:\r\n",
    "    more_cars = f.write(\"Buick\")\r\n",
    "    print(\"Number of characters: \", more_cars)"
   ],
   "outputs": [],
   "metadata": {}
  },
  {
   "cell_type": "code",
   "execution_count": null,
   "source": [
    "!type classiccars.txt"
   ],
   "outputs": [],
   "metadata": {}
  },
  {
   "cell_type": "code",
   "execution_count": null,
   "source": [
    "open(\"sportcars.txt\", \"r\")"
   ],
   "outputs": [],
   "metadata": {}
  },
  {
   "cell_type": "code",
   "execution_count": null,
   "source": [
    "with open(\"sportcars.txt\", \"w\") as f:\r\n",
    "    f.write(\"Mustang\")"
   ],
   "outputs": [],
   "metadata": {}
  },
  {
   "cell_type": "code",
   "execution_count": null,
   "source": [
    "!type sportcars.txt"
   ],
   "outputs": [],
   "metadata": {}
  },
  {
   "cell_type": "code",
   "execution_count": null,
   "source": [
    "sport_cars = [\"Agera\", \"Regera\", \"Chiron\", \"Veyron\"]"
   ],
   "outputs": [],
   "metadata": {}
  },
  {
   "cell_type": "code",
   "execution_count": null,
   "source": [
    "with open(\"sportcars.txt\", \"w\") as f:\r\n",
    "    for car in sport_cars:\r\n",
    "        f.write(car)"
   ],
   "outputs": [],
   "metadata": {}
  },
  {
   "cell_type": "code",
   "execution_count": null,
   "source": [
    "!type sportcars.txt"
   ],
   "outputs": [],
   "metadata": {}
  },
  {
   "cell_type": "markdown",
   "source": [
    "## Đường dẫn hệ điều hành"
   ],
   "metadata": {}
  },
  {
   "cell_type": "code",
   "execution_count": null,
   "source": [
    "path = os.path.abspath(os.sep.join(['.', 'subdir', 'subsubdir', 'file.ext']))\r\n",
    "path"
   ],
   "outputs": [],
   "metadata": {}
  },
  {
   "cell_type": "code",
   "execution_count": null,
   "source": [
    "import pathlib\r\n",
    "path = (pathlib.Path(\".\") / \"subdir\" / \"subsubdir\" / \"file.ext\").absolute()\r\n",
    "path"
   ],
   "outputs": [],
   "metadata": {}
  },
  {
   "cell_type": "code",
   "execution_count": null,
   "source": [
    "def count_sloc(dir_path):\r\n",
    "    sloc = 0\r\n",
    "    for path in dir_path.iterdir():\r\n",
    "        if path.name.startswith(\".\"):   # hidden dir\r\n",
    "            continue\r\n",
    "        if path.is_dir():\r\n",
    "            sloc += count_sloc(path)\r\n",
    "            continue\r\n",
    "        if path.suffix != \".py\":\r\n",
    "            continue\r\n",
    "\r\n",
    "        with path.open() as file:\r\n",
    "            try:        # guard for UnicodeDecodeError\r\n",
    "                for line in file:\r\n",
    "                    line = line.strip()\r\n",
    "                    if line and not line.startswith(\"#\"):\r\n",
    "                        sloc += 1\r\n",
    "            except:\r\n",
    "                continue\r\n",
    "    return sloc"
   ],
   "outputs": [],
   "metadata": {}
  },
  {
   "cell_type": "code",
   "execution_count": null,
   "source": [
    "root_path = pathlib.Path(\".\")\r\n",
    "folder = (root_path.absolute().parent / \"hackathon1\").resolve()\r\n",
    "print(f\"{count_sloc(folder)} lines of python code\")"
   ],
   "outputs": [],
   "metadata": {}
  },
  {
   "cell_type": "markdown",
   "source": [
    "## File định dạng CSV và JSON"
   ],
   "metadata": {}
  },
  {
   "cell_type": "code",
   "execution_count": null,
   "source": [
    "!type gyms_equipment.csv"
   ],
   "outputs": [],
   "metadata": {}
  },
  {
   "cell_type": "code",
   "execution_count": null,
   "source": [
    "import csv\r\n",
    "\r\n",
    "with open('gyms_equipment.csv', \"r\") as f:\r\n",
    "    csv_reader = csv.reader(f)\r\n",
    "\r\n",
    "    for equipment in csv_reader:\r\n",
    "        print(equipment)"
   ],
   "outputs": [],
   "metadata": {}
  },
  {
   "cell_type": "code",
   "execution_count": null,
   "source": [
    "with open('gyms_equipment_headings.csv', \"r\") as f:\r\n",
    "    csv_reader = csv.DictReader(f)\r\n",
    "\r\n",
    "    for equipment in csv_reader:\r\n",
    "        print(equipment)"
   ],
   "outputs": [],
   "metadata": {}
  },
  {
   "cell_type": "code",
   "execution_count": null,
   "source": [
    "import pandas as pd\r\n",
    "df = pd.read_csv('gyms_equipment_headings.csv')"
   ],
   "outputs": [],
   "metadata": {}
  },
  {
   "cell_type": "code",
   "execution_count": null,
   "source": [
    "import json"
   ],
   "outputs": [],
   "metadata": {}
  },
  {
   "cell_type": "code",
   "execution_count": null,
   "source": [
    "dogs_and_ages = {'Oba': 8, 'Teddy': 10, 'Nemo': 2.5}"
   ],
   "outputs": [],
   "metadata": {}
  },
  {
   "cell_type": "code",
   "execution_count": null,
   "source": [
    "json_string = json.dumps(dogs_and_ages)\r\n",
    "json_string"
   ],
   "outputs": [],
   "metadata": {}
  },
  {
   "cell_type": "code",
   "execution_count": null,
   "source": [
    "type(json_string)"
   ],
   "outputs": [],
   "metadata": {}
  },
  {
   "cell_type": "code",
   "execution_count": null,
   "source": [
    "cake_json_string = \"\"\"\r\n",
    "{\r\n",
    "    \"id\": \"0001\",\r\n",
    "    \"type\": \"donut\",\r\n",
    "    \"name\": \"Cake\",\r\n",
    "    \"ppu\": 0.55,\r\n",
    "    \"batters\":\r\n",
    "        {\r\n",
    "            \"batter\":\r\n",
    "                [\r\n",
    "                    { \"id\": \"1001\", \"type\": \"Regular\" },\r\n",
    "                    { \"id\": \"1002\", \"type\": \"Chocolate\" },\r\n",
    "                    { \"id\": \"1003\", \"type\": \"Blueberry\" },\r\n",
    "                    { \"id\": \"1004\", \"type\": \"Devil's Food\" }\r\n",
    "                ]\r\n",
    "        },\r\n",
    "    \"topping\":\r\n",
    "        [\r\n",
    "            { \"id\": \"5001\", \"type\": \"None\" },\r\n",
    "            { \"id\": \"5002\", \"type\": \"Glazed\" },\r\n",
    "            { \"id\": \"5005\", \"type\": \"Sugar\" },\r\n",
    "            { \"id\": \"5007\", \"type\": \"Powdered Sugar\" },\r\n",
    "            { \"id\": \"5006\", \"type\": \"Chocolate with Sprinkles\" },\r\n",
    "            { \"id\": \"5003\", \"type\": \"Chocolate\" },\r\n",
    "            { \"id\": \"5004\", \"type\": \"Maple\" }\r\n",
    "        ]\r\n",
    "}\r\n",
    "\"\"\"\r\n",
    "cake_dict = json.loads(cake_json_string)\r\n",
    "cake_dict"
   ],
   "outputs": [],
   "metadata": {}
  },
  {
   "cell_type": "code",
   "execution_count": null,
   "source": [
    "type(cake_dict)"
   ],
   "outputs": [],
   "metadata": {}
  },
  {
   "cell_type": "code",
   "execution_count": null,
   "source": [
    "with open('data.json', 'w') as cake_file:\r\n",
    "    json.dump(cake_dict, cake_file)"
   ],
   "outputs": [],
   "metadata": {}
  },
  {
   "cell_type": "code",
   "execution_count": null,
   "source": [
    "with open('data.json', 'r') as cake_file:\r\n",
    "    file_json = json.load(cake_file)\r\n",
    "\r\n",
    "file_json"
   ],
   "outputs": [],
   "metadata": {}
  },
  {
   "cell_type": "markdown",
   "source": [
    "## Comprehensions\r\n",
    "Giúp chuyển đổi hoặc lọc (filter) một đối tượng có thể duyệt được (iterable) chỉ trong một dòng mã. Đối tượng kết quả có thể là một danh sách, tập hợp hoặc từ điển bình thường"
   ],
   "metadata": {}
  },
  {
   "cell_type": "code",
   "execution_count": null,
   "source": [
    "output_integers = [] \r\n",
    "for car in sport_cars: \r\n",
    "    output_integers.append(len(car) * 2) \r\n",
    "output_integers"
   ],
   "outputs": [],
   "metadata": {}
  },
  {
   "cell_type": "code",
   "execution_count": null,
   "source": [
    "output_integers = [len(car) * 2 for car in sport_cars]      # one-liner\r\n",
    "output_integers\r\n",
    "sport_cars"
   ],
   "outputs": [],
   "metadata": {}
  },
  {
   "cell_type": "code",
   "execution_count": null,
   "source": [
    "output_integers = [len(car) for car in sport_cars if car != \"Chiron\"]\r\n",
    "output_integers"
   ],
   "outputs": [],
   "metadata": {}
  },
  {
   "cell_type": "code",
   "execution_count": null,
   "source": [
    "number_list = [ x**3 for x in range(11) if x % 2 == 0]\r\n",
    "number_list"
   ],
   "outputs": [],
   "metadata": {}
  },
  {
   "cell_type": "code",
   "execution_count": null,
   "source": [
    "obj = [\"Even\" if i%2==0 else \"Odd\" for i in range(10)]\r\n",
    "obj"
   ],
   "outputs": [],
   "metadata": {}
  },
  {
   "cell_type": "code",
   "execution_count": null,
   "source": [
    "filename = 'gyms_equipment_headings.csv'\r\n",
    "with open(filename) as file:\r\n",
    "    header = file.readline().strip().split(\",\")\r\n",
    "    machines = [\r\n",
    "        dict(\r\n",
    "            zip(header, line.strip().split(\",\")))\r\n",
    "        for line in file\r\n",
    "    ]\r\n",
    "\r\n",
    "for m in machines:\r\n",
    "    print(\"Gyms Machines: {Product} -- {Price}\".format(**m))"
   ],
   "outputs": [],
   "metadata": {}
  },
  {
   "cell_type": "code",
   "execution_count": null,
   "source": [
    "s = \"Practice Problems to Drill List Comprehension in Your Head.\"\r\n",
    "\"\".join([char for char in s if char not in [\"a\",\"e\",\"i\",\"o\",\"u\"]])"
   ],
   "outputs": [],
   "metadata": {}
  },
  {
   "cell_type": "code",
   "execution_count": null,
   "source": [
    "# Tìm số có 1 chữ số lớn nhất có thể được chia hết\r\n",
    "nums = [i for i in range(1,101)]\r\n",
    "{num:max([divisor for divisor in range(1,10) if num % divisor == 0]) for num in nums}"
   ],
   "outputs": [],
   "metadata": {}
  },
  {
   "cell_type": "markdown",
   "source": [
    "## Set and dictionary comprehensions"
   ],
   "metadata": {}
  },
  {
   "cell_type": "code",
   "execution_count": null,
   "source": [
    "s = \"Practice Problems to Drill List Comprehension in Your Head.\"\r\n",
    "words = s.split(\" \")\r\n",
    "{word:len(word) for word in words}"
   ],
   "outputs": [],
   "metadata": {}
  },
  {
   "cell_type": "markdown",
   "source": [
    "## Profiling"
   ],
   "metadata": {}
  },
  {
   "cell_type": "code",
   "execution_count": null,
   "source": [
    "import random\r\n",
    "import timeit\r\n",
    "TAX_RATE = .08\r\n",
    "txns = [random.randrange(100) for _ in range(100000)]\r\n",
    "\r\n",
    "def get_price(txn):\r\n",
    "    return txn * (1 + TAX_RATE)\r\n",
    "\r\n",
    "def get_prices_with_map():\r\n",
    "    return list(map(get_price, txns))\r\n",
    "\r\n",
    "def get_prices_with_comprehension():\r\n",
    "    return [get_price(txn) for txn in txns]\r\n",
    "\r\n",
    "def get_prices_with_loop():\r\n",
    "    prices = []\r\n",
    "    for txn in txns:\r\n",
    "        prices.append(get_price(txn))\r\n",
    "    return prices\r\n",
    "\r\n",
    "timeit.timeit(get_prices_with_map, number=100)"
   ],
   "outputs": [],
   "metadata": {}
  },
  {
   "cell_type": "code",
   "execution_count": null,
   "source": [
    "timeit.timeit(get_prices_with_comprehension, number=100)"
   ],
   "outputs": [],
   "metadata": {}
  },
  {
   "cell_type": "code",
   "execution_count": null,
   "source": [
    "timeit.timeit(get_prices_with_loop, number=100)"
   ],
   "outputs": [],
   "metadata": {}
  }
 ],
 "metadata": {
  "orig_nbformat": 4,
  "language_info": {
   "name": "python",
   "version": "3.7.8",
   "mimetype": "text/x-python",
   "codemirror_mode": {
    "name": "ipython",
    "version": 3
   },
   "pygments_lexer": "ipython3",
   "nbconvert_exporter": "python",
   "file_extension": ".py"
  },
  "kernelspec": {
   "name": "python3",
   "display_name": "Python 3.7.8 64-bit"
  },
  "interpreter": {
   "hash": "04635d289a519a1410467dd0afb0db42f9184808881ca68b2eb5a687a20a5a94"
  }
 },
 "nbformat": 4,
 "nbformat_minor": 2
}