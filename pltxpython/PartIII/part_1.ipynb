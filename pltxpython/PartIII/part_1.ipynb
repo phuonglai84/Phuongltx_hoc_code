{
 "cells": [
  {
   "cell_type": "markdown",
   "metadata": {
    "tags": []
   },
   "source": [
    "# Python - Lập trình hướng đối tượng"
   ]
  },
  {
   "cell_type": "markdown",
   "metadata": {
    "tags": []
   },
   "source": [
    "## Khai báo class\n",
    "\n",
    "Khai báo một class mới với từ khóa `class`. Theo quy ước, tên class có dạng UpperCamelCase (ký tự đầu tiên của mỗi từ được viết hoa). Khi khai báo, một Class Object mới được tạo.\n",
    "\n",
    "💡 Khai báo Class xác định một kiểu dữ liệu tùy chỉnh"
   ]
  },
  {
   "cell_type": "code",
   "execution_count": 2,
   "metadata": {},
   "outputs": [
    {
     "name": "stdout",
     "output_type": "stream",
     "text": [
      "1935764589000 1\n",
      "Lớp mô tả cho các con mèo 2\n",
      "<class '__main__.Cat'>\n",
      "<class 'int'>\n",
      "<class 'int'>\n"
     ]
    }
   ],
   "source": [
    "class Cat:\n",
    "    \"\"\"Lớp mô tả cho các con mèo\"\"\"\n",
    "    pass\n",
    "\n",
    "print(id(Cat), \"1\")\n",
    "print(Cat.__doc__, \"2\")\n",
    "print(Cat)\n",
    "\n",
    "# Tương tự như những kiểu được định nghĩa sẵn\n",
    "print(int)\n",
    "\n",
    "x = 1\n",
    "print(type(x))"
   ]
  },
  {
   "cell_type": "markdown",
   "metadata": {
    "tags": []
   },
   "source": [
    "## Khởi tạo instance object\n",
    "\n",
    "Từ class, chúng ta có thể tạo ra các objects, object là một thể hiện (instance) của class"
   ]
  },
  {
   "cell_type": "code",
   "execution_count": 6,
   "metadata": {},
   "outputs": [
    {
     "name": "stdout",
     "output_type": "stream",
     "text": [
      "1638582970568 1638582971272\n",
      "\n",
      "<__main__.Cat object at 0x0000017D8327E8C8>\n",
      "<class '__main__.Cat'>\n",
      "True\n",
      "3\n",
      "False\n"
     ]
    }
   ],
   "source": [
    "# Tạo ra 2 con mèo\n",
    "lucy = Cat()\n",
    "kitty = Cat()\n",
    "\n",
    "print(id(lucy), id(kitty))\n",
    "\n",
    "print()\n",
    "print(lucy)\n",
    "print(type(lucy))\n",
    "\n",
    "# Kiểm tra một object có phải instance của class cụ thể hay không\n",
    "print(isinstance(lucy, Cat))\n",
    "\n",
    "x = int(3)\n",
    "print(x)\n",
    "print(isinstance(x,Cat))"
   ]
  },
  {
   "cell_type": "markdown",
   "metadata": {},
   "source": [
    "## Khai báo phương thức\n",
    "\n",
    "Khai báo một phương thức trong class tương tự như khai báo hàm thông thường, ngoại trừ việc nó có một tham số bắt buộc `self`. Các phương thức sẽ được chia sẻ chung bởi các đối tượng được tạo từ class"
   ]
  },
  {
   "cell_type": "code",
   "execution_count": 5,
   "metadata": {},
   "outputs": [],
   "source": [
    "class Cat:\n",
    "    \"\"\"Lớp mô tả cho các con mèo\"\"\"\n",
    "\n",
    "    def run(self):\n",
    "        print(\"Running\")\n",
    "\n",
    "    def meow(self):\n",
    "        print(\"Meow meow\")\n",
    "\n",
    "    def eat(self):\n",
    "        print(\"Eating\")\n",
    "\n",
    "    def sleep(self):\n",
    "        print(\"Sleeping\")"
   ]
  },
  {
   "cell_type": "markdown",
   "metadata": {},
   "source": [
    "## Gọi phương thức\n",
    "\n",
    "Để gọi phương thức trên một đối tượng cụ thể, sử dụng cú pháp `object_name.method_name()`"
   ]
  },
  {
   "cell_type": "code",
   "execution_count": 6,
   "metadata": {},
   "outputs": [
    {
     "name": "stdout",
     "output_type": "stream",
     "text": [
      "Meow meow\n",
      "Running\n",
      "Meow meow\n",
      "Running\n"
     ]
    }
   ],
   "source": [
    "lucy = Cat()\n",
    "kitty = Cat()\n",
    "\n",
    "# Phương thức được chia sẻ chung giữa các đối tượng\n",
    "lucy.meow()\n",
    "lucy.run()\n",
    "\n",
    "kitty.meow()\n",
    "kitty.run()"
   ]
  },
  {
   "cell_type": "markdown",
   "metadata": {},
   "source": [
    "## Tham số Self\n",
    "\n",
    "Khi khai báo các phương thức cho một lớp, bắt buộc phải có tham số `self` (theo quy ước, có thể sử dụng tên khác ví dụ `this`), mặc dù vậy khi gọi phương thức, chúng ta không cần truyền giá trị cho nó. Python sẽ tự xác định giá trị cho `self`, chính là đối tượng gọi phương thức"
   ]
  },
  {
   "cell_type": "code",
   "execution_count": 3,
   "metadata": {},
   "outputs": [
    {
     "name": "stdout",
     "output_type": "stream",
     "text": [
      "<__main__.Cat object at 0x000001C2B6068188> Meow meow\n",
      "<__main__.Cat object at 0x000001C2B60687C8> Meow meow\n",
      "<__main__.Cat object at 0x000001C2B6068188> Meow meow\n",
      "<__main__.Cat object at 0x000001C2B60687C8> Meow meow\n"
     ]
    }
   ],
   "source": [
    "class Cat:\n",
    "    \"\"\"Lớp mô tả cho các con mèo\"\"\"\n",
    "    def meow(self):\n",
    "        print(self, \"Meow meow\")\n",
    "\n",
    "lucy = Cat()\n",
    "kitty = Cat()\n",
    "\n",
    "lucy.meow() # self = lucy\n",
    "kitty.meow() # self = kitty\n",
    "\n",
    "# Tương tự với cách gọi này\n",
    "Cat.meow(lucy) # self = lucy\n",
    "Cat.meow(kitty) # self = kitty\n",
    "#kết quả object ở vị trí xxx, cùng vị trí --> cùng đối tượng, vd lucy"
   ]
  },
  {
   "cell_type": "markdown",
   "metadata": {},
   "source": [
    "## Instance variables\n",
    "\n",
    "Instance variables - thuộc tính là các giá trị riêng của mỗi object, có thể khai báo và gán giá trị giống như một biến thông thường, cú pháp `object.property_name = value`"
   ]
  },
  {
   "cell_type": "code",
   "execution_count": 4,
   "metadata": {},
   "outputs": [
    {
     "name": "stdout",
     "output_type": "stream",
     "text": [
      "Lucy\n",
      "White\n",
      "Kitty 3 British Grey\n"
     ]
    }
   ],
   "source": [
    "lucy.breed = \"Persian\"\n",
    "lucy.name = \"Lucy\"\n",
    "lucy.age = 2\n",
    "lucy.color = \"White\"\n",
    "\n",
    "print(lucy.name)\n",
    "print(lucy.color)\n",
    "\n",
    "# print(kitty.name) # Error\n",
    "kitty.name = \"Kitty\"\n",
    "kitty.age = 3\n",
    "kitty.bread = \"British\"\n",
    "kitty.color = \"Grey\"\n",
    "\n",
    "print(kitty.name, kitty.age, kitty.bread, kitty.color)"
   ]
  },
  {
   "cell_type": "markdown",
   "metadata": {},
   "source": [
    "## Truy cập thuộc tính trong phương thức\n",
    "\n",
    "Các phương thức có thể truy cập đến thuộc tính bên trong đối tượng thông qua `self`, cú pháp `self.property_name`"
   ]
  },
  {
   "cell_type": "code",
   "execution_count": 15,
   "metadata": {},
   "outputs": [
    {
     "name": "stdout",
     "output_type": "stream",
     "text": [
      "Lucy is eating\n",
      "Kitty is eating\n"
     ]
    }
   ],
   "source": [
    "class Cat:\n",
    "    def eat(self):\n",
    "        print(self.name, \"is eating\")\n",
    "\n",
    "lucy = Cat()\n",
    "kitty = Cat()\n",
    "\n",
    "lucy.name = \"Lucy\"\n",
    "kitty.name = \"Kitty\"\n",
    " \n",
    "lucy.eat() # self = lucy => self.name = lucy.name\n",
    "kitty.eat() # self = kitty => self.name = kitty.name"
   ]
  },
  {
   "cell_type": "markdown",
   "metadata": {},
   "source": [
    "Ngoài ra, một phương thức cũng có thể được dùng để khai báo một thuộc tính hay gọi đến phương thức khác của chính đối tượng cũng thông qua `self`"
   ]
  },
  {
   "cell_type": "code",
   "execution_count": 145,
   "metadata": {},
   "outputs": [
    {
     "name": "stdout",
     "output_type": "stream",
     "text": [
      "Woof woof\n",
      "Milo red is running\n"
     ]
    }
   ],
   "source": [
    "class Dog:\n",
    "    def set_details(self, name, color):\n",
    "        self.name = name\n",
    "        self.color = color\n",
    "\n",
    "    def bark(self):\n",
    "        print(\"Woof woof\")\n",
    "\n",
    "    def run(self):\n",
    "        self.bark()\n",
    "        print(self.name, self.color, \"is running\")\n",
    "\n",
    "milo = Dog()          # chưa hiểu lắm đoạn này, có dòng này hay k vẫn chạy đc, thi thoảng k có thì lại error\n",
    "milo.set_details(\"Milo\", \"red\") # self = milo => self.name = milo.name\n",
    "milo.run() # self = milo => self.bark() = milo.bark()"
   ]
  },
  {
   "cell_type": "markdown",
   "metadata": {},
   "source": [
    "### Exercise\n",
    "\n",
    "Khai báo một class BankAccount đại diện cho một tài khoản ngân hàng, có 4 phương thức:\n",
    "- `set_details(account_number, account_name, balance)`: tạo 3 instance variable tương ứng (mặc định `balance = 0`)\n",
    "- `display()`: Hiển thị thông tin tài khoản\n",
    "- `withdraw(amount)` và `deposit(amount)`: thực hiện trừ tiền và nạp tiền với giá trị `amount` tương ứng\n",
    "\n",
    "💡 Chú ý tham số"
   ]
  },
  {
   "cell_type": "code",
   "execution_count": 27,
   "metadata": {},
   "outputs": [
    {
     "name": "stdout",
     "output_type": "stream",
     "text": [
      "123 Phương 10000\n",
      "8000\n",
      "9000\n"
     ]
    }
   ],
   "source": [
    "class BankAccount:\n",
    "    def set_details(self, account_number, account_name, balance = 0):\n",
    "        self.account_number = account_number\n",
    "        self.account_name = account_name\n",
    "        self.balance = balance\n",
    "\n",
    "    def display(self):\n",
    "        print(self.account_number, self.account_name, self.balance)\n",
    "    \n",
    "    def withdraw(self, amount):\n",
    "        self.balance -= amount\n",
    "        print(self.balance)\n",
    "\n",
    "    def deposit(self, amount):\n",
    "        self.balance += amount\n",
    "        print(self.balance)\n",
    "\n",
    "phuongltx = BankAccount()\n",
    "phuongltx.set_details(123, \"Phương\", 10000)\n",
    "phuongltx.display()\n",
    "phuongltx.withdraw(2000)\n",
    "phuongltx.deposit(1000)"
   ]
  },
  {
   "cell_type": "code",
   "execution_count": 30,
   "metadata": {},
   "outputs": [
    {
     "name": "stdout",
     "output_type": "stream",
     "text": [
      "123 Phương 10000\n",
      "8000\n",
      "9000\n"
     ]
    }
   ],
   "source": [
    "class BankAccount:\n",
    "    def __init__(self, account_number, account_name, balance = 0):          #dùng __int__() để khởi tạo\n",
    "        self.account_number = account_number\n",
    "        self.account_name = account_name\n",
    "        self.balance = balance\n",
    "\n",
    "    def display(self):\n",
    "        print(self.account_number, self.account_name, self.balance)\n",
    "    \n",
    "    def withdraw(self, amount):\n",
    "        self.balance -= amount\n",
    "        print(self.balance)\n",
    "\n",
    "    def deposit(self, amount):\n",
    "        self.balance += amount\n",
    "        print(self.balance)\n",
    "\n",
    "# phuongltx = BankAccount()\n",
    "phuongltx = BankAccount(123, \"Phương\", 10000)       #gán value, tương tự set_details ở trên\n",
    "phuongltx.display()\n",
    "phuongltx.withdraw(2000)\n",
    "phuongltx.deposit(1000)"
   ]
  },
  {
   "cell_type": "markdown",
   "metadata": {},
   "source": [
    "## Hàm khởi tạo\n",
    "\n",
    "Thay vì khai báo thuộc tính sau khi khởi tạo đối tượng, có thể khai báo một phương thức đặc biệt **`__init__()`** - được gọi là hàm khởi tạo\n",
    "\n",
    "Phương thức **`__init__()`** sẽ được gọi ngay sau khi đối tượng được khởi tạo, thông thường nó sẽ có nhiệm vụ khai báo instance variables.\n",
    "\n",
    "Các đối số cho **`__init__()`** được truyền ngay trong cú pháp khởi tạo đối tượng"
   ]
  },
  {
   "cell_type": "code",
   "execution_count": 25,
   "metadata": {},
   "outputs": [
    {
     "name": "stdout",
     "output_type": "stream",
     "text": [
      "Milo woof woof\n"
     ]
    }
   ],
   "source": [
    "class Dog:\n",
    "    def __init__(self, breed, gender, name, age, color):\n",
    "        self.breed = breed\n",
    "        self.gender = gender\n",
    "        self.name = name\n",
    "        self.age = age\n",
    "        self.color = color\n",
    "    \n",
    "    def bark(self):\n",
    "        print(self.name, \"woof woof\")\n",
    "        \n",
    "\n",
    "milo = Dog(\"Corgi\", \"Male\", \"Milo\", 1, \"Brown\")\n",
    "\n",
    "milo.bark()"
   ]
  },
  {
   "cell_type": "markdown",
   "metadata": {},
   "source": [
    "### Exercise\n",
    "\n",
    "Chuyển đổi phương thức `set_details()` của class `BankAccount` thành `__init__()`"
   ]
  },
  {
   "cell_type": "markdown",
   "metadata": {},
   "source": [
    "## Data hiding\n",
    "\n",
    "Mã bên ngoài không được phép truy cập trực tiếp tới các thuộc tính hay phương thức private"
   ]
  },
  {
   "cell_type": "code",
   "execution_count": 31,
   "metadata": {},
   "outputs": [
    {
     "name": "stdout",
     "output_type": "stream",
     "text": [
      "888\n",
      "None\n",
      "999\n",
      "None\n"
     ]
    }
   ],
   "source": [
    "class Product:\n",
    "    def __init__(self, cost, price):\n",
    "        self._cost = cost               # Private\n",
    "        self.price = price              # Public\n",
    "\n",
    "    def _profit(self):                   # Private\n",
    "        pass\n",
    "\n",
    "    def order(self):                    # Public\n",
    "        pass\n",
    "\n",
    "ip = Product(888, 999)\n",
    "\n",
    "# Các thuộc tính và phương thức này vẫn có thể truy cập trực tiếp\n",
    "print(ip._cost)\n",
    "print(ip._profit())\n",
    "\n",
    "print(ip.price)\n",
    "print(ip.order())"
   ]
  },
  {
   "cell_type": "markdown",
   "metadata": {},
   "source": [
    "💡 Ngoài ra, còn một số quy ước đặt tên khác sử dụng dấu _"
   ]
  },
  {
   "cell_type": "code",
   "execution_count": 32,
   "metadata": {},
   "outputs": [],
   "source": [
    "class Product:\n",
    "    def __init__(self, cost):\n",
    "        self.__cost = cost              # Sử dụng 2 dấu gạch trước tên để tránh xung đột\n",
    "        # __cost => _Product__cost      # với các thuộc tính của lớp con\n",
    "\n",
    "class_ = \"abc\"                          # Sử dụng 1 dấu gạch ở sau tên để tránh xung đột\n",
    "list_ = 123                             # với built-in type"
   ]
  },
  {
   "cell_type": "markdown",
   "metadata": {},
   "source": [
    "## Getter/Setter\n",
    "\n",
    "Khi sử dụng thuộc tính ẩn, chúng ta cần hạn chế truy cập trực tiếp đến nó. Thay vào đó, triển khai các phương thức để truy cập như getter (để đọc giá trị) và setter (để đặt giá trị) cho thuộc tính.\n",
    "\n",
    "Getter/setter hữu ích trong việc kiểm soát quyền truy cập và xác thực dữ liệu trước khi thay đổi một giá trị,  cho phép biến một thuộc tính thành dạng chỉ đọc (chỉ triển khai getter) hay chỉ ghi (chỉ triển khai setter)"
   ]
  },
  {
   "cell_type": "code",
   "execution_count": 34,
   "metadata": {},
   "outputs": [
    {
     "name": "stdout",
     "output_type": "stream",
     "text": [
      "Tuổi không hợp lệ\n"
     ]
    },
    {
     "ename": "AttributeError",
     "evalue": "'Person' object has no attribute '_age'",
     "output_type": "error",
     "traceback": [
      "\u001b[1;31m---------------------------------------------------------------------------\u001b[0m",
      "\u001b[1;31mAttributeError\u001b[0m                            Traceback (most recent call last)",
      "\u001b[1;32mC:\\Users\\PHUONG~1\\AppData\\Local\\Temp/ipykernel_9864/1855941041.py\u001b[0m in \u001b[0;36m<module>\u001b[1;34m\u001b[0m\n\u001b[0;32m     20\u001b[0m \u001b[1;33m\u001b[0m\u001b[0m\n\u001b[0;32m     21\u001b[0m \u001b[0mba\u001b[0m \u001b[1;33m=\u001b[0m \u001b[0mPerson\u001b[0m\u001b[1;33m(\u001b[0m\u001b[1;34m\"Ba\"\u001b[0m\u001b[1;33m,\u001b[0m \u001b[1;36m0\u001b[0m\u001b[1;33m)\u001b[0m\u001b[1;33m\u001b[0m\u001b[1;33m\u001b[0m\u001b[0m\n\u001b[1;32m---> 22\u001b[1;33m \u001b[0mba\u001b[0m\u001b[1;33m.\u001b[0m\u001b[0mdisplay\u001b[0m\u001b[1;33m(\u001b[0m\u001b[1;33m)\u001b[0m\u001b[1;33m\u001b[0m\u001b[1;33m\u001b[0m\u001b[0m\n\u001b[0m",
      "\u001b[1;32mC:\\Users\\PHUONG~1\\AppData\\Local\\Temp/ipykernel_9864/1855941041.py\u001b[0m in \u001b[0;36mdisplay\u001b[1;34m(self)\u001b[0m\n\u001b[0;32m     17\u001b[0m \u001b[1;33m\u001b[0m\u001b[0m\n\u001b[0;32m     18\u001b[0m     \u001b[1;32mdef\u001b[0m \u001b[0mdisplay\u001b[0m\u001b[1;33m(\u001b[0m\u001b[0mself\u001b[0m\u001b[1;33m)\u001b[0m\u001b[1;33m:\u001b[0m\u001b[1;33m\u001b[0m\u001b[1;33m\u001b[0m\u001b[0m\n\u001b[1;32m---> 19\u001b[1;33m         \u001b[0mprint\u001b[0m\u001b[1;33m(\u001b[0m\u001b[1;34mf\"{self.get_name()} - {self.get_age()}\"\u001b[0m\u001b[1;33m)\u001b[0m\u001b[1;33m\u001b[0m\u001b[1;33m\u001b[0m\u001b[0m\n\u001b[0m\u001b[0;32m     20\u001b[0m \u001b[1;33m\u001b[0m\u001b[0m\n\u001b[0;32m     21\u001b[0m \u001b[0mba\u001b[0m \u001b[1;33m=\u001b[0m \u001b[0mPerson\u001b[0m\u001b[1;33m(\u001b[0m\u001b[1;34m\"Ba\"\u001b[0m\u001b[1;33m,\u001b[0m \u001b[1;36m0\u001b[0m\u001b[1;33m)\u001b[0m\u001b[1;33m\u001b[0m\u001b[1;33m\u001b[0m\u001b[0m\n",
      "\u001b[1;32mC:\\Users\\PHUONG~1\\AppData\\Local\\Temp/ipykernel_9864/1855941041.py\u001b[0m in \u001b[0;36mget_age\u001b[1;34m(self)\u001b[0m\n\u001b[0;32m      8\u001b[0m \u001b[1;33m\u001b[0m\u001b[0m\n\u001b[0;32m      9\u001b[0m     \u001b[1;32mdef\u001b[0m \u001b[0mget_age\u001b[0m\u001b[1;33m(\u001b[0m\u001b[0mself\u001b[0m\u001b[1;33m)\u001b[0m\u001b[1;33m:\u001b[0m\u001b[1;33m\u001b[0m\u001b[1;33m\u001b[0m\u001b[0m\n\u001b[1;32m---> 10\u001b[1;33m         \u001b[1;32mreturn\u001b[0m \u001b[0mself\u001b[0m\u001b[1;33m.\u001b[0m\u001b[0m_age\u001b[0m\u001b[1;33m\u001b[0m\u001b[1;33m\u001b[0m\u001b[0m\n\u001b[0m\u001b[0;32m     11\u001b[0m \u001b[1;33m\u001b[0m\u001b[0m\n\u001b[0;32m     12\u001b[0m     \u001b[1;32mdef\u001b[0m \u001b[0mset_age\u001b[0m\u001b[1;33m(\u001b[0m\u001b[0mself\u001b[0m\u001b[1;33m,\u001b[0m \u001b[0mnew_age\u001b[0m\u001b[1;33m)\u001b[0m\u001b[1;33m:\u001b[0m\u001b[1;33m\u001b[0m\u001b[1;33m\u001b[0m\u001b[0m\n",
      "\u001b[1;31mAttributeError\u001b[0m: 'Person' object has no attribute '_age'"
     ]
    }
   ],
   "source": [
    "class Person:\n",
    "    def __init__(self, name, age):\n",
    "        self._name = name\n",
    "        self.set_age(age)\n",
    "\n",
    "    def get_name(self):\n",
    "        return self._name\n",
    "\n",
    "    def get_age(self):\n",
    "        return self._age\n",
    "\n",
    "    def set_age(self, new_age):\n",
    "        if 0 < new_age < 100:\n",
    "            self._age = new_age\n",
    "        else:\n",
    "            print(\"Tuổi không hợp lệ\")\n",
    "    \n",
    "    def display(self):\n",
    "        print(f\"{self.get_name()} - {self.get_age()}\")\n",
    "\n",
    "ba = Person(\"Ba\", 0)\n",
    "ba.display()"
   ]
  },
  {
   "cell_type": "markdown",
   "metadata": {},
   "source": [
    "### Exercise\n",
    "\n",
    "Thay đổi các thuộc tính `account_number`, `account_name`, `balance` trong class `BankAccount` thành thuộc tính ẩn, và triển khai thêm các phương thức:\n",
    "\n",
    "- `get_account_number()`\n",
    "- `get_account_name()`\n",
    "- `get_balance()`\n",
    "- `set_balance()` - `balance` phải lớn hơn hoặc bằng `0`\n",
    "\n",
    "Thay đổi các phương thức `display()`, `withdraw()` và `deposit()` sử dụng các phương thức getter và setter trên.\n",
    "\n",
    "Chú ý:\n",
    "\n",
    "- Với `withdraw()`, `amount` phải lớn hơn `0` và nhỏ hơn `balance`\n",
    "- Với `deposit()`, `amount` phải lớn hơn `0`\n",
    "\n",
    "Nếu giá trị không phù hợp thì thông báo ra `console`"
   ]
  },
  {
   "cell_type": "markdown",
   "metadata": {},
   "source": [
    "## @property\n",
    "\n",
    "Getter/setter phổ biến ở trong các ngôn ngữ khác như Java, tuy nhiên, Python hỗ trợ một cú pháp đơn giản gọn gàng hơn sử dụng **`@property`**\n",
    "\n",
    "💡 **`@property`** được gọi là **decorator**, đây là một khái niệm nâng cao (Higher-Order Function). Có nhiều decorator khác nhau có sẵn, hoặc cũng có thể tự định nghĩa decorator.\n",
    "\n",
    "Trong trường hợp này hiểu đơn giản decorator giống như thẻ đánh dấu HTML, nó đánh dấu một phương thức và coi nó giống như một thuộc tính thông thường"
   ]
  },
  {
   "cell_type": "code",
   "execution_count": 4,
   "metadata": {},
   "outputs": [
    {
     "name": "stdout",
     "output_type": "stream",
     "text": [
      "Ba - 30\n",
      "Ba\n",
      "Tuổi không hợp lệ\n",
      "30\n",
      "Xóa thuộc tính _age\n",
      "30\n"
     ]
    },
    {
     "ename": "AttributeError",
     "evalue": "can't set attribute",
     "output_type": "error",
     "traceback": [
      "\u001b[1;31m---------------------------------------------------------------------------\u001b[0m",
      "\u001b[1;31mAttributeError\u001b[0m                            Traceback (most recent call last)",
      "\u001b[1;32mC:\\Users\\PHUONG~1\\AppData\\Local\\Temp/ipykernel_19936/3909645457.py\u001b[0m in \u001b[0;36m<module>\u001b[1;34m\u001b[0m\n\u001b[0;32m     38\u001b[0m \u001b[0mprint\u001b[0m\u001b[1;33m(\u001b[0m\u001b[0mba\u001b[0m\u001b[1;33m.\u001b[0m\u001b[0mage\u001b[0m\u001b[1;33m)\u001b[0m\u001b[1;33m\u001b[0m\u001b[1;33m\u001b[0m\u001b[0m\n\u001b[0;32m     39\u001b[0m \u001b[1;33m\u001b[0m\u001b[0m\n\u001b[1;32m---> 40\u001b[1;33m \u001b[0mba\u001b[0m\u001b[1;33m.\u001b[0m\u001b[0mname\u001b[0m \u001b[1;33m=\u001b[0m \u001b[1;34m\"Béo\"\u001b[0m     \u001b[1;31m# Error, không có setter\u001b[0m\u001b[1;33m\u001b[0m\u001b[1;33m\u001b[0m\u001b[0m\n\u001b[0m",
      "\u001b[1;31mAttributeError\u001b[0m: can't set attribute"
     ]
    }
   ],
   "source": [
    "class Person:\n",
    "    def __init__(self, name, age):\n",
    "        self._name = name\n",
    "        self._age = age\n",
    "\n",
    "    @property                       # Getter\n",
    "    def name(self):                 # Khai báo thuộc tính name\n",
    "        return self._name\n",
    "\n",
    "    @property                       # Setter\n",
    "    def age(self):                  # Khai báo thuộc tính age\n",
    "        return self._age\n",
    "\n",
    "    @age.setter\n",
    "    def age(self, new_age):         # Khai báo setter cho age\n",
    "        if 0 < new_age < 100:\n",
    "            self._age = new_age\n",
    "        else:\n",
    "            print(\"Tuổi không hợp lệ\")\n",
    "\n",
    "    @age.deleter                    # Khai báo deleter\n",
    "    def age(self):                  # Deleter được gọi khi muốn xóa thuộc tính\n",
    "        print(\"Xóa thuộc tính _age\")\n",
    "\n",
    "    def display(self):\n",
    "        print(f\"{self.name} - {self.age}\")  # Truy cập giống như thuộc tính thông thường\n",
    "\n",
    "\n",
    "ba = Person(\"Ba\", 30)\n",
    "ba.display()\n",
    "\n",
    "print(ba.name)      # Gọi getter\n",
    "\n",
    "ba.age = 0         # Gọi setter, new_age = 30\n",
    "print(ba.age)\n",
    "\n",
    "del ba.age\n",
    "print(ba.age)\n",
    "\n",
    "ba.name = \"Béo\"     # Error, không có setter"
   ]
  },
  {
   "cell_type": "code",
   "execution_count": 1,
   "metadata": {},
   "outputs": [
    {
     "name": "stdout",
     "output_type": "stream",
     "text": [
      "123 Phương 20000\n",
      "acc num = 123\n",
      "acc name = Phương\n",
      "acc balance ban đầu = 20000\n",
      "123 Phương 18000\n",
      "123 Phương 19000\n"
     ]
    }
   ],
   "source": [
    "#Bank account dùng getter/setter\n",
    "# Bài tập OOP buổi 1\n",
    "# Thay đổi các thuộc tính account_number, account_name, balance trong class BankAccount thành thuộc tính ẩn, \n",
    "# và triển khai thêm các phương thức\n",
    "# get_account_number()\n",
    "# get_account_name()\n",
    "# get_balance()\n",
    "# set_balance() - balance phải lớn hơn hoặc bằng 0\n",
    "# Thay đổi các phương thức display(), withdraw() và deposit() sử dụng các phương thức getter và setter trên.\n",
    "# Chú ý:\n",
    "# Với withdraw(), amount phải lớn hơn 0 và nhỏ hơn balance\n",
    "# Với deposit(), amount phải lớn hơn 0\n",
    "# Nếu giá trị không phù hợp thì thông báo ra console\n",
    "\n",
    "class BankAccount:\n",
    "    def __init__(self, account_number, account_name, balance = 0):          #dùng __int__() để khởi tạo\n",
    "        self._account_number = account_number\n",
    "        self._account_name = account_name\n",
    "        self._balance = balance\n",
    "    \n",
    "    @property\n",
    "    def account_number(self):\n",
    "        return self._account_number\n",
    "    \n",
    "    def get_account_name(self):     #dùng dạng phương thức\n",
    "        return self._account_name\n",
    "\n",
    "    @property       # getter, chuyển thành property - thuộc tính, cú pháp gọn hơn khi gọi ra, chỉ cần [classname].[propertyname]\n",
    "    def balance(self):\n",
    "        return self._balance\n",
    "\n",
    "    @balance.setter\n",
    "    def set_balance(self, balance):\n",
    "        if balance >= 0:\n",
    "            self._balance = balance\n",
    "        else:\n",
    "            raise ValueError(\"Số dư phải lớn hơn 0\")\n",
    "\n",
    "    def display(self):\n",
    "        print(self._account_number, self._account_name, self._balance), \"đ\"\n",
    "    \n",
    "    def withdraw(self, amount):\n",
    "        if 0 < amount <= self._balance:\n",
    "            self._balance -= amount\n",
    "        else:\n",
    "            raise ValueError(\"Amount < ballance or <= 0\")\n",
    "\n",
    "    def deposit(self, amount):\n",
    "        if amount > 0:\n",
    "            self._balance += amount\n",
    "        else:\n",
    "            return ValueError(\"amount < 0 \")\n",
    "\n",
    "# phuongltx = BankAccount()\n",
    "phuongltx = BankAccount(123, \"Phương\", 20000)       #gán value, tương tự set_details ở trên\n",
    "phuongltx.display()\n",
    "print(\"acc num =\", phuongltx.account_number)\n",
    "print(\"acc name =\", phuongltx.get_account_name())\n",
    "print(\"acc balance ban đầu =\", phuongltx.balance)\n",
    "\n",
    "phuongltx.withdraw(2000)\n",
    "phuongltx.display()\n",
    "\n",
    "phuongltx.deposit(1000)\n",
    "phuongltx.display()\n"
   ]
  },
  {
   "cell_type": "markdown",
   "metadata": {},
   "source": [
    "Một ví dụ khác hữu ích của **`@property`** là khai báo các thuộc tính với giá trị được tính toán dựa trên những giá trị khác, tự động cập nhật khi các giá trị phụ thuộc thay đổi, đồng thời không cho phép người dùng tùy chỉnh giá trị này"
   ]
  },
  {
   "cell_type": "code",
   "execution_count": 2,
   "metadata": {},
   "outputs": [
    {
     "name": "stdout",
     "output_type": "stream",
     "text": [
      "5.385164807134504\n",
      "7.0710678118654755\n"
     ]
    }
   ],
   "source": [
    "class Rectangle:\n",
    "    def __init__(self, length, breadth):\n",
    "        self.length = length\n",
    "        self.breadth = breadth\n",
    "\n",
    "    @property\n",
    "    def diagonal(self):\n",
    "        return (self.length ** 2 + self.breadth ** 2) ** 0.5\n",
    "\n",
    "\n",
    "r = Rectangle(2, 5)\n",
    "print(r.diagonal)\n",
    "\n",
    "r.length = 5\n",
    "print(r.diagonal)"
   ]
  },
  {
   "cell_type": "markdown",
   "metadata": {},
   "source": [
    "### Exercise\n",
    "\n",
    "Thay thế getter/setter trong class `BankAccount` thành property tương ứng, chỉnh sửa các phương thức `withdraw()` và `deposit()` sử dụng property"
   ]
  }
 ],
 "metadata": {
  "interpreter": {
   "hash": "04635d289a519a1410467dd0afb0db42f9184808881ca68b2eb5a687a20a5a94"
  },
  "kernelspec": {
   "display_name": "Python 3.7.8 64-bit",
   "name": "python3"
  },
  "language_info": {
   "codemirror_mode": {
    "name": "ipython",
    "version": 3
   },
   "file_extension": ".py",
   "mimetype": "text/x-python",
   "name": "python",
   "nbconvert_exporter": "python",
   "pygments_lexer": "ipython3",
   "version": "3.7.8"
  }
 },
 "nbformat": 4,
 "nbformat_minor": 5
}
