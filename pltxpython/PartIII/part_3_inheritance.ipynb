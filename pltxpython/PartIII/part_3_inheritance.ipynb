{
 "cells": [
  {
   "cell_type": "markdown",
   "source": [
    "# Python - Lập trình hướng đối tượng"
   ],
   "metadata": {}
  },
  {
   "cell_type": "markdown",
   "source": [
    "## Inheritance\n",
    "\n",
    "Kế thừa (inheritance) là một tính chất quan trọng trong lập trình hướng đối tượng. "
   ],
   "metadata": {}
  },
  {
   "cell_type": "code",
   "execution_count": 15,
   "source": [
    "class Person:\r\n",
    "    def __init__(self, name, age, address, phone):\r\n",
    "        self.name = name \r\n",
    "        self.age = age \r\n",
    "        self.address = address\r\n",
    "        self.phone = phone\r\n",
    "    \r\n",
    "    def greet(self):\r\n",
    "        print(\"Hello, I'm\", self.name)\r\n",
    "\r\n",
    "    def is_adult(self):\r\n",
    "        return True if self.age >= 18 else False\r\n",
    "\r\n",
    "    def contact(self):\r\n",
    "        print(self.address, self.phone)"
   ],
   "outputs": [],
   "metadata": {}
  },
  {
   "cell_type": "markdown",
   "source": [
    "Kế thừa lớp `Person`, `Employee` có toàn bộ thuộc tính và phương thức của `Person`"
   ],
   "metadata": {}
  },
  {
   "cell_type": "code",
   "execution_count": 16,
   "source": [
    "class Employee(Person): # Cú pháp kế thừa\r\n",
    "    pass\r\n",
    "\r\n",
    "e = Employee(\"Phuongltx\", 29, \"Cầu Giấy\", \"09xx\")\r\n",
    "e.greet()\r\n",
    "e.contact()\r\n",
    "print(e.is_adult())"
   ],
   "outputs": [
    {
     "output_type": "stream",
     "name": "stdout",
     "text": [
      "Hello, I'm Phuongltx\n",
      "Cầu Giấy 09xx\n",
      "True\n"
     ]
    }
   ],
   "metadata": {}
  },
  {
   "cell_type": "markdown",
   "source": [
    "Mở rộng thêm một số thuộc tính mới và ghi đè (overriding) các phương thức"
   ],
   "metadata": {}
  },
  {
   "cell_type": "code",
   "execution_count": 17,
   "source": [
    "class Employee(Person):\r\n",
    "    def __init__(self, name, age, address, phone, salary, roll):\r\n",
    "        self.name = name\r\n",
    "        self.age = age \r\n",
    "        self.address = address\r\n",
    "        self.phone = phone\r\n",
    "        self.salary = salary\r\n",
    "        self.roll = roll\r\n",
    "\r\n",
    "    def greet(self):    #ghi đè phương thức của Cha (Person) --> khi gọi sẽ k gọi Person nữa, mà gọi luôn greet này\r\n",
    "        print(\"Hello, I'm\", self.name)\r\n",
    "        print(\"I'm\", self.roll)\r\n",
    "\r\n",
    "e = Employee(\"Ba\", 29, \"Cầu Giấy\", \"09xx\", 1000, \"Teacher\")\r\n",
    "e.greet()   #--> khi gọi sẽ k gọi Person nữa, mà gọi luôn greet này"
   ],
   "outputs": [
    {
     "output_type": "stream",
     "name": "stdout",
     "text": [
      "Hello, I'm Ba\n",
      "I'm Teacher\n"
     ]
    }
   ],
   "metadata": {}
  },
  {
   "cell_type": "markdown",
   "source": [
    "`super()` tham chiếu đến lớp cha"
   ],
   "metadata": {}
  },
  {
   "cell_type": "code",
   "execution_count": 18,
   "source": [
    "class Employee(Person):    \r\n",
    "    def __init__(self, name, age, address, phone, salary, roll): \r\n",
    "        super().__init__(name, age, address, phone)      # supper --> cho phép tham chiếu tới lớp cha Person, tránh việc phải viết lại mã\r\n",
    "        self.salary = salary\r\n",
    "        self.roll = roll\r\n",
    "\r\n",
    "    def greet(self):\r\n",
    "        super().greet()\r\n",
    "        print(\"I'm\", self.roll)\r\n",
    "\r\n",
    "\r\n",
    "e = Employee(\"Ba\", 29, \"Cầu Giấy\", \"09xx\", 1000, \"Teacher\")\r\n",
    "e.greet()\r\n"
   ],
   "outputs": [
    {
     "output_type": "stream",
     "name": "stdout",
     "text": [
      "Hello, I'm Ba\n",
      "I'm Teacher\n"
     ]
    }
   ],
   "metadata": {}
  },
  {
   "cell_type": "markdown",
   "source": [
    "## Object Class\n",
    "\n",
    "Trong Python, class `object` là lớp cơ sở nhất, mọi class dù trực tiếp hay gián tiếp đều kế thừa từ nó, ngoại trừ các exceptions có base class là `BaseException`"
   ],
   "metadata": {}
  },
  {
   "cell_type": "code",
   "execution_count": 25,
   "source": [
    "class Demo(object):\r\n",
    "    pass\r\n",
    "\r\n",
    "print(dir(Demo),\"\\n\")\r\n",
    "print(dir(object))"
   ],
   "outputs": [
    {
     "output_type": "stream",
     "name": "stdout",
     "text": [
      "['__class__', '__delattr__', '__dict__', '__dir__', '__doc__', '__eq__', '__format__', '__ge__', '__getattribute__', '__gt__', '__hash__', '__init__', '__init_subclass__', '__le__', '__lt__', '__module__', '__ne__', '__new__', '__reduce__', '__reduce_ex__', '__repr__', '__setattr__', '__sizeof__', '__str__', '__subclasshook__', '__weakref__'] \n",
      "\n",
      "['__class__', '__delattr__', '__dir__', '__doc__', '__eq__', '__format__', '__ge__', '__getattribute__', '__gt__', '__hash__', '__init__', '__init_subclass__', '__le__', '__lt__', '__ne__', '__new__', '__reduce__', '__reduce_ex__', '__repr__', '__setattr__', '__sizeof__', '__str__', '__subclasshook__']\n"
     ]
    }
   ],
   "metadata": {}
  },
  {
   "cell_type": "code",
   "execution_count": 11,
   "source": [
    "class Animal(object):       # mọi lớp đều kế thừa từ 1 lớp cơ bản nhất\r\n",
    "    pass\r\n",
    "\r\n",
    "class Cat(Animal):\r\n",
    "    pass\r\n",
    "\r\n",
    "\r\n",
    "obj = object()\r\n",
    "cat = Cat()\r\n",
    "\r\n",
    "print(dir(obj))\r\n",
    "print()\r\n",
    "print(dir(cat))"
   ],
   "outputs": [
    {
     "output_type": "stream",
     "name": "stdout",
     "text": [
      "['__class__', '__delattr__', '__dir__', '__doc__', '__eq__', '__format__', '__ge__', '__getattribute__', '__gt__', '__hash__', '__init__', '__init_subclass__', '__le__', '__lt__', '__ne__', '__new__', '__reduce__', '__reduce_ex__', '__repr__', '__setattr__', '__sizeof__', '__str__', '__subclasshook__']\n",
      "\n",
      "['__class__', '__delattr__', '__dict__', '__dir__', '__doc__', '__eq__', '__format__', '__ge__', '__getattribute__', '__gt__', '__hash__', '__init__', '__init_subclass__', '__le__', '__lt__', '__module__', '__ne__', '__new__', '__reduce__', '__reduce_ex__', '__repr__', '__setattr__', '__sizeof__', '__str__', '__subclasshook__', '__weakref__']\n"
     ]
    }
   ],
   "metadata": {}
  },
  {
   "cell_type": "markdown",
   "source": [
    "Ở ví dụ trên, `Cat` kế thừa từ `Animal` và gián tiếp kế thừa từ `object`, đây được gọi là **kế thừa nhiều cấp - multi-level inheritance**"
   ],
   "metadata": {}
  },
  {
   "cell_type": "markdown",
   "source": [
    "## Composition\n",
    "\n",
    "Ví dụ, lớp `Car` **CÓ MỘT** thành phần thuộc lớp `Engine`"
   ],
   "metadata": {}
  },
  {
   "cell_type": "code",
   "execution_count": 26,
   "source": [
    "class Car:\r\n",
    "    def __init__(self, engine):\r\n",
    "        self.engine = engine\r\n",
    "\r\n",
    "    def run(self):\r\n",
    "        self.engine.run()\r\n",
    "\r\n",
    "class Engine:\r\n",
    "    def run(self):\r\n",
    "        print(\"Run\")\r\n",
    "\r\n",
    "v12 = Engine()\r\n",
    "maybach = Car(v12)\r\n",
    "\r\n",
    "maybach.run()"
   ],
   "outputs": [
    {
     "output_type": "stream",
     "name": "stdout",
     "text": [
      "Run\n"
     ]
    }
   ],
   "metadata": {}
  },
  {
   "cell_type": "markdown",
   "source": [
    "## Polymorphism"
   ],
   "metadata": {}
  },
  {
   "cell_type": "code",
   "execution_count": 17,
   "source": [
    "# Ví dụ đa hình thể hiện thông qua toán tử\r\n",
    "\r\n",
    "print(1 + 1)\r\n",
    "print(\"a\" + \"b\")"
   ],
   "outputs": [
    {
     "output_type": "stream",
     "name": "stdout",
     "text": [
      "2\n",
      "ab\n"
     ]
    }
   ],
   "metadata": {}
  },
  {
   "cell_type": "code",
   "execution_count": 18,
   "source": [
    "# Ví dụ đa hình thể hiện thông qua hàm \n",
    "# có thể hoạt động với nhiều kiểu dữ liệu khác nhau\n",
    "\n",
    "print(len(\"hello\"))\n",
    "print(len([\"a\", \"b\", \"c\"]))\n",
    "print(len({\"x\": 1, \"y\": 2}))"
   ],
   "outputs": [
    {
     "output_type": "stream",
     "name": "stdout",
     "text": [
      "5\n",
      "3\n",
      "2\n"
     ]
    }
   ],
   "metadata": {}
  },
  {
   "cell_type": "code",
   "execution_count": 20,
   "source": [
    "# Ví dụ đa hình thể hiện thông qua lớp\n",
    "# Python không hỗ trợ method overriding như Java\n",
    "\n",
    "class Rectangle:\n",
    "    def __init__(self, length, breadth):\n",
    "        self.length = length\n",
    "        self.breadth = breadth\n",
    "\n",
    "    def area(self):\n",
    "        return self.length * self.breadth\n",
    "\n",
    "class Triangle:\n",
    "    def __init__(self, s1, s2, s3):\n",
    "        self.s1 = s1\n",
    "        self.s2 = s2\n",
    "        self.s3 = s3\n",
    "\n",
    "    def area(self):\n",
    "        # Công thức heron\n",
    "        sp = (self.s1 + self.s2 + self.s3) / 2\n",
    "        return (sp * (sp - self.s1) * (sp - self.s2) * (sp - self.s3)) ** 0.5\n",
    "\n",
    "class Circle:\n",
    "    def __init__(self, r):\n",
    "        self.r = r \n",
    "    \n",
    "    def area(self):\n",
    "        return 3.14 * self.r * self.r\n",
    "\n",
    "r = Rectangle(1, 5)\n",
    "t = Triangle(2, 4, 3)\n",
    "c = Circle(3)\n",
    "\n",
    "def find_area(shape):\n",
    "    print(shape.area())\n",
    "\n",
    "find_area(r)\n",
    "find_area(t)\n",
    "find_area(c)"
   ],
   "outputs": [
    {
     "output_type": "stream",
     "name": "stdout",
     "text": [
      "5\n",
      "2.9047375096555625\n",
      "28.259999999999998\n"
     ]
    }
   ],
   "metadata": {}
  },
  {
   "cell_type": "markdown",
   "source": [
    "### Exercises\n",
    "\n",
    "1. Tạo class `SavingAccount` kế thừa từ `BankAccount`, bổ sung:\n",
    "- `monthly_interest_rate`: Lãi suất hàng tháng = `0.005`\n",
    "- `calculate_interest()`: tính tiền lãi hàng tháng, công thức `balance * monthly_interest_rate`\n",
    "\n",
    "2. Tạo class `Customer` bao gồm một số thông tin:\n",
    "- `name`, `date_of_birth`, `email`, `phone`\n",
    "- `get_info()` hiển thị thông tin Customer\n",
    "\n",
    "3. Thay đổi class `BankAccount`:\n",
    "- `_account_name` thành `_owner` là một `Customer`\n",
    "- `display()` hiển thị thông tin số tài khoản, thông tin khách hàng và số dư"
   ],
   "metadata": {}
  },
  {
   "cell_type": "markdown",
   "source": [],
   "metadata": {}
  }
 ],
 "metadata": {
  "kernelspec": {
   "name": "python3",
   "display_name": "Python 3.7.8 64-bit"
  },
  "language_info": {
   "codemirror_mode": {
    "name": "ipython",
    "version": 3
   },
   "file_extension": ".py",
   "mimetype": "text/x-python",
   "name": "python",
   "nbconvert_exporter": "python",
   "pygments_lexer": "ipython3",
   "version": "3.7.8"
  },
  "interpreter": {
   "hash": "04635d289a519a1410467dd0afb0db42f9184808881ca68b2eb5a687a20a5a94"
  }
 },
 "nbformat": 4,
 "nbformat_minor": 5
}