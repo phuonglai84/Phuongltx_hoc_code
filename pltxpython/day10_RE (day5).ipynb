{
 "cells": [
  {
   "cell_type": "code",
   "execution_count": 4,
   "source": [
    "s = 'foo123bar'\r\n",
    "'123' in s"
   ],
   "outputs": [
    {
     "output_type": "execute_result",
     "data": {
      "text/plain": [
       "True"
      ]
     },
     "metadata": {},
     "execution_count": 4
    }
   ],
   "metadata": {}
  },
  {
   "cell_type": "code",
   "execution_count": 5,
   "source": [
    "# dùng find() hoặc index() để tìm vị trí chuỗi con\r\n",
    "s.find('123')       # s.index('123')"
   ],
   "outputs": [
    {
     "output_type": "execute_result",
     "data": {
      "text/plain": [
       "3"
      ]
     },
     "metadata": {},
     "execution_count": 5
    }
   ],
   "metadata": {}
  },
  {
   "cell_type": "markdown",
   "source": [
    "## Regular Expression - Biểu thức chính quy\r\n",
    "\r\n",
    "Dùng nhiều trong thực tế. Ngắn gọn nhưng khá khó đọc, và khó hiểu\r\n",
    "Vấn đề chung: Cho một chuỗi (file contents, log, website source,...) xác định xem chuỗi có khớp một mẫu cho sẵn hoặc thu thập những chuỗi con chứa những thông tin cần thiết. Vd:\r\n",
    "* chuỗi có phải là đường dẫn URL hợp lệ\r\n",
    "* ngày giờ của những thông báo warning trong log file?\r\n",
    "* username và document nào được người dùng yêu cầu qua URL"
   ],
   "metadata": {}
  },
  {
   "cell_type": "code",
   "execution_count": 6,
   "source": [
    "import re   # hàm search, match, findall\r\n",
    "\r\n",
    "\r\n",
    "pattern = \"123\"\r\n",
    "re.search(pattern, s)"
   ],
   "outputs": [
    {
     "output_type": "execute_result",
     "data": {
      "text/plain": [
       "<re.Match object; span=(3, 6), match='123'>"
      ]
     },
     "metadata": {},
     "execution_count": 6
    }
   ],
   "metadata": {}
  },
  {
   "cell_type": "code",
   "execution_count": 7,
   "source": [
    "import re   # hàm search, match, findall\r\n",
    "\r\n",
    "address = \"256 hateco hoàng Mai, Yên Sở, Hmai, HN\"\r\n",
    "pattern = \"256\"\r\n",
    "pattern1 = \"Yên Sở\"\r\n",
    "# re.search(pattern,address)\r\n",
    "re.search(pattern1,address)"
   ],
   "outputs": [
    {
     "output_type": "execute_result",
     "data": {
      "text/plain": [
       "<re.Match object; span=(22, 28), match='Yên Sở'>"
      ]
     },
     "metadata": {},
     "execution_count": 7
    }
   ],
   "metadata": {}
  },
  {
   "cell_type": "code",
   "execution_count": 8,
   "source": [
    "if re.search('123', s):     # Match Object is truthy\r\n",
    "    print('Found a match')\r\n",
    "else:\r\n",
    "    print('No match')"
   ],
   "outputs": [
    {
     "output_type": "stream",
     "name": "stdout",
     "text": [
      "Found a match\n"
     ]
    }
   ],
   "metadata": {}
  },
  {
   "cell_type": "markdown",
   "source": [
    "### Special Metacharacters ---> Superpower"
   ],
   "metadata": {}
  },
  {
   "cell_type": "code",
   "execution_count": 9,
   "source": [
    "from IPython.core.interactiveshell import InteractiveShell\r\n",
    "InteractiveShell.ast_node_interactivity = \"all\"\r\n",
    "\r\n",
    "def regex_generic(search_string, pattern):\r\n",
    "    match = re.match(pattern, search_string)\r\n",
    "\r\n",
    "    if match:\r\n",
    "        template = \"Chuỗi '{}' khớp với mẫu '{}'\"\r\n",
    "    else:\r\n",
    "        template = \"Chuỗi '{}' KHÔNG khớp với mẫu '{}'\"\r\n",
    "\r\n",
    "    print(template.format(search_string, pattern))"
   ],
   "outputs": [],
   "metadata": {}
  },
  {
   "cell_type": "code",
   "execution_count": 7,
   "source": [
    "regex_generic(\"hello world\", \"hello worl\")\r\n",
    "regex_generic(\"hello world\", \"ello world\")"
   ],
   "outputs": [
    {
     "output_type": "stream",
     "name": "stdout",
     "text": [
      "Chuỗi 'hello world' khớp với mẫu 'hello worl'\n",
      "Chuỗi 'hello world' KHÔNG khớp với mẫu 'ello world'\n"
     ]
    }
   ],
   "metadata": {}
  },
  {
   "cell_type": "code",
   "execution_count": 8,
   "source": [
    "regex_generic(\"hello world\", \"^hello world$\")   # đầu và đuôi\r\n",
    "re.search('^foo', 'foobar')  # ^ --> pattern phải ở đầu"
   ],
   "outputs": [
    {
     "output_type": "stream",
     "name": "stdout",
     "text": [
      "Chuỗi 'hello world' khớp với mẫu '^hello world$'\n"
     ]
    },
    {
     "output_type": "execute_result",
     "data": {
      "text/plain": [
       "<re.Match object; span=(0, 3), match='foo'>"
      ]
     },
     "metadata": {},
     "execution_count": 8
    }
   ],
   "metadata": {}
  },
  {
   "cell_type": "markdown",
   "source": [
    "## Dấu . trong mẫu khớp với bất kỳ ký tự nào (trừ newline)."
   ],
   "metadata": {}
  },
  {
   "cell_type": "code",
   "execution_count": 9,
   "source": [
    "regex_generic(\"hello world\", \"hel.o world\")  # tìm pattern bên phải, trong chuỗi bên trái\r\n",
    "regex_generic(\"helpo world\", \"hel.o world\")\r\n",
    "regex_generic(\"hel o world\", \"hel.o world\")\r\n",
    "regex_generic(\"helo world\", \"hel.o world\")"
   ],
   "outputs": [
    {
     "output_type": "stream",
     "name": "stdout",
     "text": [
      "Chuỗi 'hello world' khớp với mẫu 'hel.o world'\n",
      "Chuỗi 'helpo world' khớp với mẫu 'hel.o world'\n",
      "Chuỗi 'hel o world' khớp với mẫu 'hel.o world'\n",
      "Chuỗi 'helo world' KHÔNG khớp với mẫu 'hel.o world'\n"
     ]
    }
   ],
   "metadata": {}
  },
  {
   "cell_type": "code",
   "execution_count": 11,
   "source": [
    "re.match(\"hel.o world\",\"hello world\")   # tìm pattern bên trái trong chuỗi bên phải"
   ],
   "outputs": [
    {
     "output_type": "execute_result",
     "data": {
      "text/plain": [
       "<re.Match object; span=(0, 11), match='hello world'>"
      ]
     },
     "metadata": {},
     "execution_count": 11
    }
   ],
   "metadata": {}
  },
  {
   "cell_type": "code",
   "execution_count": 12,
   "source": [
    "# [] chứa 1 tập ký tự được khớp\r\n",
    "re.search('ba[artz]', 'foobarqux')  \r\n",
    "# tìm pattern bên trái với ký tự thứ 3 flexible 1 trong các ký tự trong [], trong chuỗi bên phải, "
   ],
   "outputs": [
    {
     "output_type": "execute_result",
     "data": {
      "text/plain": [
       "<re.Match object; span=(3, 6), match='bar'>"
      ]
     },
     "metadata": {},
     "execution_count": 12
    }
   ],
   "metadata": {}
  },
  {
   "cell_type": "code",
   "execution_count": 13,
   "source": [
    "# kết hợp với dấu - thể hiện range ký tự\r\n",
    "regex_generic(\"hello   world\", \"hello [a-z] world\")\r\n",
    "regex_generic(\"hello b world\", \"hello [a-z] world\")\r\n",
    "regex_generic(\"hello 2 world\", \"hello [a-zA-Z0-9] world\")"
   ],
   "outputs": [
    {
     "output_type": "stream",
     "name": "stdout",
     "text": [
      "Chuỗi 'hello   world' KHÔNG khớp với mẫu 'hello [a-z] world'\n",
      "Chuỗi 'hello b world' khớp với mẫu 'hello [a-z] world'\n",
      "Chuỗi 'hello 2 world' khớp với mẫu 'hello [a-zA-Z0-9] world'\n"
     ]
    }
   ],
   "metadata": {}
  },
  {
   "cell_type": "code",
   "execution_count": 14,
   "source": [
    "# kết hợp với dấu - thể hiện range ký tự, dùng hàm search \r\n",
    "re.search(\"1hello [a-z] world\",\"1hello  world\")  # k ra, do ký tự space k thuộc [a-z]\r\n",
    "re.search(\"2hello [a-z] world\",\"2hello b world\")\r\n",
    "re.search(\"3hello [a-zA-Z0-9] world\",\"3hello 2 world\")"
   ],
   "outputs": [
    {
     "output_type": "execute_result",
     "data": {
      "text/plain": [
       "<re.Match object; span=(0, 14), match='2hello b world'>"
      ]
     },
     "metadata": {},
     "execution_count": 14
    },
    {
     "output_type": "execute_result",
     "data": {
      "text/plain": [
       "<re.Match object; span=(0, 14), match='3hello 2 world'>"
      ]
     },
     "metadata": {},
     "execution_count": 14
    }
   ],
   "metadata": {}
  },
  {
   "cell_type": "code",
   "execution_count": 17,
   "source": [
    "# ^ tìm tất cả những ký tự không nằm trong set được mô tả\r\n",
    "re.search('[^0-9]', '123a45foo')\r\n",
    "re.findall('[^0-9]', '123a45foo')"
   ],
   "outputs": [
    {
     "output_type": "execute_result",
     "data": {
      "text/plain": [
       "<re.Match object; span=(3, 4), match='a'>"
      ]
     },
     "metadata": {},
     "execution_count": 17
    },
    {
     "output_type": "execute_result",
     "data": {
      "text/plain": [
       "['a', 'f', 'o', 'o']"
      ]
     },
     "metadata": {},
     "execution_count": 17
    }
   ],
   "metadata": {}
  },
  {
   "cell_type": "markdown",
   "source": [
    "## Ký tự đặc biệt \\"
   ],
   "metadata": {}
  },
  {
   "cell_type": "code",
   "execution_count": 18,
   "source": [
    "str1 = \"She said: \\\"He's good!!!\\\"\"\r\n",
    "print(str1)"
   ],
   "outputs": [
    {
     "output_type": "stream",
     "name": "stdout",
     "text": [
      "She said: \"He's good!!!\"\n"
     ]
    }
   ],
   "metadata": {}
  },
  {
   "cell_type": "code",
   "execution_count": 20,
   "source": [
    "regex_generic(\"0.05\", \"0\\.[0-9][0-9]\")\r\n",
    "regex_generic(\"005\", \"0\\.[0-9][0-9]\")\r\n",
    "regex_generic(\"0,05\", \"0\\.[0-9][0-9]\")"
   ],
   "outputs": [
    {
     "output_type": "stream",
     "name": "stdout",
     "text": [
      "Chuỗi '0.05' khớp với mẫu '0\\.[0-9][0-9]'\n",
      "Chuỗi '005' KHÔNG khớp với mẫu '0\\.[0-9][0-9]'\n",
      "Chuỗi '0,05' KHÔNG khớp với mẫu '0\\.[0-9][0-9]'\n"
     ]
    }
   ],
   "metadata": {}
  },
  {
   "cell_type": "code",
   "execution_count": 21,
   "source": [
    "re.search(\"0\\.[0-9][0-9]\",\"0.050009\")"
   ],
   "outputs": [
    {
     "output_type": "execute_result",
     "data": {
      "text/plain": [
       "<re.Match object; span=(0, 4), match='0.05'>"
      ]
     },
     "metadata": {},
     "execution_count": 21
    }
   ],
   "metadata": {}
  },
  {
   "cell_type": "markdown",
   "source": [
    "* \\w tương đương với [a-zA-Z0-9_]\r\n",
    "* \\W ngược lại \\w, tương đương [^a-zA-Z0-9_]\r\n",
    "* \\d == [0-9]\r\n",
    "* \\D tương đương [^0-9]"
   ],
   "metadata": {}
  },
  {
   "cell_type": "code",
   "execution_count": 12,
   "source": [
    "regex_generic(\"(abc]\", \"\\(abc\\]\")   # \\ khớp ký tự liền sau\r\n",
    "regex_generic(\" 1a\", \"\\s\\d\\w\")      # \\s thay cho khoảng trắng, \\w thay cho chữ, số hoặc _ và \\d thay cho chữ số\r\n",
    "regex_generic(\"\\t5n\", \"s\\d\\w\")      # \\t thay cho TAB\r\n",
    "regex_generic(\"\\t5n\", \"\\s\\d\\w\")      # \\t thay cho TAB"
   ],
   "outputs": [
    {
     "output_type": "stream",
     "name": "stdout",
     "text": [
      "Chuỗi '(abc]' khớp với mẫu '\\(abc\\]'\n",
      "Chuỗi ' 1a' khớp với mẫu '\\s\\d\\w'\n",
      "Chuỗi '\t5n' KHÔNG khớp với mẫu 's\\d\\w'\n",
      "Chuỗi '\t5n' khớp với mẫu '\\s\\d\\w'\n"
     ]
    }
   ],
   "metadata": {}
  },
  {
   "cell_type": "code",
   "execution_count": 13,
   "source": [
    "re.search('\\W', 'a_1*3Qb')\r\n",
    "print(type(re.search('\\W', 'a_1*3Qb')))"
   ],
   "outputs": [
    {
     "output_type": "execute_result",
     "data": {
      "text/plain": [
       "<re.Match object; span=(3, 4), match='*'>"
      ]
     },
     "metadata": {},
     "execution_count": 13
    },
    {
     "output_type": "stream",
     "name": "stdout",
     "text": [
      "<class 're.Match'>\n"
     ]
    }
   ],
   "metadata": {}
  },
  {
   "cell_type": "code",
   "execution_count": 14,
   "source": [
    "re.search('\\S', '  \\n foo  \\n  ')       # \\S ngược lại với \\s: khớp ký tự không phải khoảng trắng"
   ],
   "outputs": [
    {
     "output_type": "execute_result",
     "data": {
      "text/plain": [
       "<re.Match object; span=(4, 5), match='f'>"
      ]
     },
     "metadata": {},
     "execution_count": 14
    }
   ],
   "metadata": {}
  },
  {
   "cell_type": "markdown",
   "source": [
    "### Raw string\r\n",
    "Dùng r'' string cho các pattern regex nếu chứa \\ hoặc /."
   ],
   "metadata": {}
  },
  {
   "cell_type": "markdown",
   "source": [
    "## Khớp nhiều ký tự\r\n",
    "- '*'\r\n",
    "- '+'\r\n",
    "- '?'"
   ],
   "metadata": {}
  },
  {
   "cell_type": "code",
   "execution_count": 15,
   "source": [
    "regex_generic(\"hello\", \"hel*o\")\r\n",
    "regex_generic(\"heo\", \"hel*o\")              # ký tự liền trước xuất hiện 0 hoặc nhiều lần\r\n",
    "regex_generic(\"hellllllo\", \"hel*o\")"
   ],
   "outputs": [
    {
     "output_type": "stream",
     "name": "stdout",
     "text": [
      "Chuỗi 'hello' khớp với mẫu 'hel*o'\n",
      "Chuỗi 'heo' khớp với mẫu 'hel*o'\n",
      "Chuỗi 'hellllllo' khớp với mẫu 'hel*o'\n"
     ]
    }
   ],
   "metadata": {}
  },
  {
   "cell_type": "code",
   "execution_count": 16,
   "source": [
    "# thú vị hơn khi ta dùng * với nhóm ký tự hoặc .\r\n",
    "regex_generic(\"A string.\", \"[A-Z][a-z]* [a-z]*\\.\")          # chỉ cho phép 1 khoảng trắng (2 từ)\r\n",
    "regex_generic(\"No .\", \"[A-Z][a-z]* [a-z]*\\.\")\r\n",
    "regex_generic(\"\", \"[a-z]*.*\")\r\n",
    "re.match(\"[A-Z][a-z]* [a-z]*\\.\", \"A string.\")\r\n",
    "re.match(\"[A-Z]* [a-z]*\\.\", \"A string.\")"
   ],
   "outputs": [
    {
     "output_type": "stream",
     "name": "stdout",
     "text": [
      "Chuỗi 'A string.' khớp với mẫu '[A-Z][a-z]* [a-z]*\\.'\n",
      "Chuỗi 'No .' khớp với mẫu '[A-Z][a-z]* [a-z]*\\.'\n",
      "Chuỗi '' khớp với mẫu '[a-z]*.*'\n"
     ]
    },
    {
     "output_type": "execute_result",
     "data": {
      "text/plain": [
       "<re.Match object; span=(0, 9), match='A string.'>"
      ]
     },
     "metadata": {},
     "execution_count": 16
    },
    {
     "output_type": "execute_result",
     "data": {
      "text/plain": [
       "<re.Match object; span=(0, 9), match='A string.'>"
      ]
     },
     "metadata": {},
     "execution_count": 16
    }
   ],
   "metadata": {}
  },
  {
   "cell_type": "code",
   "execution_count": 17,
   "source": [
    "page = \"<html><body>abc<body/></html>\"\r\n",
    "pattern = \"<html>\"\r\n",
    "re.search(pattern, page)\r\n",
    "# m.groups()[0]"
   ],
   "outputs": [
    {
     "output_type": "execute_result",
     "data": {
      "text/plain": [
       "<re.Match object; span=(0, 6), match='<html>'>"
      ]
     },
     "metadata": {},
     "execution_count": 17
    }
   ],
   "metadata": {}
  },
  {
   "cell_type": "code",
   "execution_count": 18,
   "source": [
    "page = \"<html><body></body></html>\"\r\n",
    "pattern = \".*<body>.*</body>.*\"\r\n",
    "#re.match(\"[a-zA-Z]*<body></body>[a-zA-Z]*>\", page)\r\n",
    "re.match(pattern,page)"
   ],
   "outputs": [
    {
     "output_type": "execute_result",
     "data": {
      "text/plain": [
       "<re.Match object; span=(0, 26), match='<html><body></body></html>'>"
      ]
     },
     "metadata": {},
     "execution_count": 18
    }
   ],
   "metadata": {}
  },
  {
   "cell_type": "code",
   "execution_count": 19,
   "source": [
    "re.search(\"\\d+\\.\\d*\",\"42330.77\")   # dấu + tương tự dấu * nhưng cần ít nhất 1 lần xuất hiện"
   ],
   "outputs": [
    {
     "output_type": "execute_result",
     "data": {
      "text/plain": [
       "<re.Match object; span=(0, 8), match='42330.77'>"
      ]
     },
     "metadata": {},
     "execution_count": 19
    }
   ],
   "metadata": {}
  },
  {
   "cell_type": "code",
   "execution_count": 20,
   "source": [
    "regex_generic(\"0.4\", \"\\d+\\.\\d+\")            # dấu + tương tự dấu * nhưng cần ít nhất 1 lần xuất hiện\r\n",
    "regex_generic(\"1.002\", \"\\d+\\.\\d+\")\r\n",
    "regex_generic(\"1.\", \"\\d+\\.\\d+\")\r\n",
    "regex_generic(\"01%\", \"\\d?\\d%\")              # dấu ? cho phép 0 hoặc 1 lần nhưng không được hơn\r\n",
    "regex_generic(\"99%\", \"\\d?\\d%\")\r\n",
    "regex_generic(\"999%\", \"\\d?\\d%\")"
   ],
   "outputs": [
    {
     "output_type": "stream",
     "name": "stdout",
     "text": [
      "Chuỗi '0.4' khớp với mẫu '\\d+\\.\\d+'\n",
      "Chuỗi '1.002' khớp với mẫu '\\d+\\.\\d+'\n",
      "Chuỗi '1.' KHÔNG khớp với mẫu '\\d+\\.\\d+'\n",
      "Chuỗi '01%' khớp với mẫu '\\d?\\d%'\n",
      "Chuỗi '99%' khớp với mẫu '\\d?\\d%'\n",
      "Chuỗi '999%' KHÔNG khớp với mẫu '\\d?\\d%'\n"
     ]
    }
   ],
   "metadata": {}
  },
  {
   "cell_type": "markdown",
   "source": [
    "### Non-greedy (lazy version) với ?"
   ],
   "metadata": {}
  },
  {
   "cell_type": "code",
   "execution_count": 21,
   "source": [
    "re.search('<.*>', '%<foo> <bar> <baz>%')        # khớp chuỗi dài nhất có thể"
   ],
   "outputs": [
    {
     "output_type": "execute_result",
     "data": {
      "text/plain": [
       "<re.Match object; span=(1, 18), match='<foo> <bar> <baz>'>"
      ]
     },
     "metadata": {},
     "execution_count": 21
    }
   ],
   "metadata": {}
  },
  {
   "cell_type": "code",
   "execution_count": 23,
   "source": [
    "re.search('<.*?>', '%<foo> <bar> <baz>%')       # thêm dấu ? để khớp chuỗi ngắn nhất"
   ],
   "outputs": [
    {
     "output_type": "execute_result",
     "data": {
      "text/plain": [
       "<re.Match object; span=(1, 6), match='<foo>'>"
      ]
     },
     "metadata": {},
     "execution_count": 23
    }
   ],
   "metadata": {}
  },
  {
   "cell_type": "code",
   "execution_count": 24,
   "source": [
    "re.search('ba?', 'baaaa')       # dấu ? khớp 0 hoặc 1 lần\r\n",
    "# vs\r\n",
    "re.search('ba??', 'baaaa')"
   ],
   "outputs": [
    {
     "output_type": "execute_result",
     "data": {
      "text/plain": [
       "<re.Match object; span=(0, 2), match='ba'>"
      ]
     },
     "metadata": {},
     "execution_count": 24
    },
    {
     "output_type": "execute_result",
     "data": {
      "text/plain": [
       "<re.Match object; span=(0, 1), match='b'>"
      ]
     },
     "metadata": {},
     "execution_count": 24
    }
   ],
   "metadata": {}
  },
  {
   "cell_type": "markdown",
   "source": [
    "## Nhóm các mẫu lại với nhau"
   ],
   "metadata": {}
  },
  {
   "cell_type": "code",
   "execution_count": 25,
   "source": [
    "regex_generic(\"abccc\", \"abc{3}\")\r\n",
    "regex_generic(\"abccc\", \"(abc){3}\")          # dùng () để nhóm lại nhiều ký tự như một\r\n",
    "regex_generic(\"abcabcabc\", \"(abc){3}\")"
   ],
   "outputs": [
    {
     "output_type": "stream",
     "name": "stdout",
     "text": [
      "Chuỗi 'abccc' khớp với mẫu 'abc{3}'\n",
      "Chuỗi 'abccc' KHÔNG khớp với mẫu '(abc){3}'\n",
      "Chuỗi 'abcabcabc' khớp với mẫu '(abc){3}'\n"
     ]
    }
   ],
   "metadata": {}
  },
  {
   "cell_type": "code",
   "execution_count": 26,
   "source": [
    "# kết hợp nhóm và dấu lặp lại bắt đầu cho ta muôn vàn khả năng. Một câu tiếng Anh đơn giản có thể được khớp như sau\r\n",
    "regex_generic(\"Eat.\", \"[A-Z][a-z]*( [a-z]+)*\\.$\")\r\n",
    "regex_generic(\"Eat more good food.\", \"[A-Z][a-z]*( [a-z]+)*\\.$\")\r\n",
    "regex_generic(\"A good meal.\", \"[A-Z][a-z]*( [a-z]+)*\\.$\")"
   ],
   "outputs": [
    {
     "output_type": "stream",
     "name": "stdout",
     "text": [
      "Chuỗi 'Eat.' khớp với mẫu '[A-Z][a-z]*( [a-z]+)*\\.$'\n",
      "Chuỗi 'Eat more good food.' khớp với mẫu '[A-Z][a-z]*( [a-z]+)*\\.$'\n",
      "Chuỗi 'A good meal.' khớp với mẫu '[A-Z][a-z]*( [a-z]+)*\\.$'\n"
     ]
    }
   ],
   "metadata": {}
  },
  {
   "cell_type": "markdown",
   "source": [
    "## Lấy ra những giá trị cần thiết từ RE\r\n",
    "Khi nhóm biểu thức regex, ta có thể áp dụng metacharacter cho toàn bộ nhóm như 1 đơn vị. Và cho phép lấy ra nhóm con khớp với pattern theo nhiều cách khác nhau."
   ],
   "metadata": {}
  },
  {
   "cell_type": "code",
   "execution_count": 69,
   "source": [
    "pattern = \"^[a-zA-Z.]+@([a-z.]*\\.[a-z]+)$\" \r\n",
    "# ^ --> bắt buộc đầu dòng\r\n",
    "# $ --> bắt buộc cuối dòng\r\n",
    "search_string = \"some.user@example.com\" \r\n",
    "match = re.match(pattern, search_string) \r\n",
    " \r\n",
    "if match: \r\n",
    "    domain = match.groups()[0] \r\n",
    "    print(domain) "
   ],
   "outputs": [
    {
     "output_type": "stream",
     "name": "stdout",
     "text": [
      "example.com\n"
     ]
    }
   ],
   "metadata": {}
  },
  {
   "cell_type": "code",
   "execution_count": 87,
   "source": [
    "pattern = \"^([a-zA-Z.]+)@([a-z.]+\\.[a-z]{2,3})\" \r\n",
    "search_string = \"\"\"tgg some.user@example.com\r\n",
    "hang.nguyen@onemount.vn fsdfassda fsdf\r\n",
    "\"\"\" \r\n",
    "match = re.search(pattern, search_string, re.MULTILINE) \r\n",
    " \r\n",
    "if match: \r\n",
    "    domain = match.groups()[1] \r\n",
    "    print(domain)\r\n",
    "    print(match.groups()[0]) "
   ],
   "outputs": [
    {
     "output_type": "stream",
     "name": "stdout",
     "text": [
      "onemount.vn\n",
      "hang.nguyen\n"
     ]
    }
   ],
   "metadata": {}
  },
  {
   "cell_type": "code",
   "execution_count": 90,
   "source": [
    "import re\r\n",
    "re.findall('a.', 'abacadefagah')            # Không có nhóm (), trả ra các chuỗi con khớp với mẫu"
   ],
   "outputs": [
    {
     "output_type": "execute_result",
     "data": {
      "text/plain": [
       "['ab', 'ac', 'ad', 'ag', 'ah']"
      ]
     },
     "metadata": {},
     "execution_count": 90
    }
   ],
   "metadata": {}
  },
  {
   "cell_type": "code",
   "execution_count": 91,
   "source": [
    "re.findall('a(.)', 'abacadefagah')          # Có 1 nhóm, trả ra một list các giá trị trong nhóm"
   ],
   "outputs": [
    {
     "output_type": "execute_result",
     "data": {
      "text/plain": [
       "['b', 'c', 'd', 'g', 'h']"
      ]
     },
     "metadata": {},
     "execution_count": 91
    }
   ],
   "metadata": {}
  },
  {
   "cell_type": "code",
   "execution_count": 92,
   "source": [
    "re.findall('(a)(.)', 'abacadefagah')        # Có nhiều nhóm, trả ra list những tuple mà mỗi tuple chứa lần lượt các giá trị khớp với nhóm"
   ],
   "outputs": [
    {
     "output_type": "execute_result",
     "data": {
      "text/plain": [
       "[('a', 'b'), ('a', 'c'), ('a', 'd'), ('a', 'g'), ('a', 'h')]"
      ]
     },
     "metadata": {},
     "execution_count": 92
    }
   ],
   "metadata": {}
  },
  {
   "cell_type": "code",
   "execution_count": 93,
   "source": [
    "re.findall('((a)(.))', 'abacadefagah')      #   tương tự trên, trả ra nhóm cha và các nhóm con."
   ],
   "outputs": [
    {
     "output_type": "execute_result",
     "data": {
      "text/plain": [
       "[('ab', 'a', 'b'),\n",
       " ('ac', 'a', 'c'),\n",
       " ('ad', 'a', 'd'),\n",
       " ('ag', 'a', 'g'),\n",
       " ('ah', 'a', 'h')]"
      ]
     },
     "metadata": {},
     "execution_count": 93
    }
   ],
   "metadata": {}
  },
  {
   "cell_type": "code",
   "execution_count": 97,
   "source": [
    "m = re.search('(a)(.)', 'abacadefagah') \r\n",
    "m.groups()\r\n"
   ],
   "outputs": [
    {
     "output_type": "execute_result",
     "data": {
      "text/plain": [
       "('a', 'b')"
      ]
     },
     "metadata": {},
     "execution_count": 97
    }
   ],
   "metadata": {}
  },
  {
   "cell_type": "code",
   "execution_count": 108,
   "source": [
    "m = re.search('((a)(.))', 'abacadefagah') \r\n",
    "m.group()"
   ],
   "outputs": [
    {
     "output_type": "execute_result",
     "data": {
      "text/plain": [
       "'ab'"
      ]
     },
     "metadata": {},
     "execution_count": 108
    }
   ],
   "metadata": {}
  },
  {
   "cell_type": "code",
   "execution_count": 98,
   "source": [
    "# Một vài ví dụ thực tiễn\r\n",
    "# Ngày tháng năm    \"\\d{2}-\\d{2}-\\d{4}\"\r\n",
    "phoneNumRegex = re.compile(r'\\d\\d\\d-\\d\\d\\d-\\d\\d\\d\\d')\r\n",
    "match_obj = phoneNumRegex.search('My number is 415-555-4242.')\r\n",
    "print('Phone number found: ' + match_obj.group())"
   ],
   "outputs": [
    {
     "output_type": "stream",
     "name": "stdout",
     "text": [
      "Phone number found: 415-555-4242\n"
     ]
    }
   ],
   "metadata": {}
  },
  {
   "cell_type": "markdown",
   "source": [
    "## Các tính năng khác:\r\n",
    "* Backreferences\r\n",
    "```\r\n",
    "regex = r'(\\w+),\\1'\r\n",
    "m = re.search(regex, 'foo,foo')\r\n",
    "```\r\n",
    "* Lookahead and Lookbehind (non-captured). Lookbehind chỉ cho phép số lượng ký tự biết trước\r\n",
    "```\r\n",
    "re.search('foo(?=[a-z])', 'foobar')\r\n",
    "# vs\r\n",
    "re.search('foo([a-z])', 'foobar')\r\n",
    "\r\n",
    "# 3 ký tự a đứng trước def\r\n",
    "re.search('(?<=a{3})def', 'aaadef')\r\n",
    "```\r\n",
    "* Dùng flags\r\n",
    "```\r\n",
    "re.IGNORECASE\r\n",
    "re.MULTILINE\r\n",
    "re.VERBOSE      # allow whitespace và comment trong regex\r\n",
    "```"
   ],
   "metadata": {}
  },
  {
   "cell_type": "code",
   "execution_count": 99,
   "source": [
    "# regex = r'^(\\(\\d{3}\\))?\\s*\\d{3}[-.]\\d{4}$'\r\n",
    "regex = r'''^               # Start of string\r\n",
    "             (\\(\\d{3}\\))?    # Optional area code\r\n",
    "             \\s*             # Optional whitespace\r\n",
    "             \\d{3}           # Three-digit prefix\r\n",
    "             [-.]            # Separator character\r\n",
    "             \\d{4}           # Four-digit line number\r\n",
    "             $               # Anchor at end of string\r\n",
    "             '''\r\n",
    "re.search(regex, '414-9229', re.VERBOSE)\r\n",
    "re.search(regex, '(712)414-9229', re.X)"
   ],
   "outputs": [
    {
     "output_type": "execute_result",
     "data": {
      "text/plain": [
       "<re.Match object; span=(0, 8), match='414-9229'>"
      ]
     },
     "metadata": {},
     "execution_count": 99
    },
    {
     "output_type": "execute_result",
     "data": {
      "text/plain": [
       "<re.Match object; span=(0, 13), match='(712)414-9229'>"
      ]
     },
     "metadata": {},
     "execution_count": 99
    }
   ],
   "metadata": {}
  },
  {
   "cell_type": "markdown",
   "source": [
    "### match() và search()"
   ],
   "metadata": {}
  },
  {
   "cell_type": "code",
   "execution_count": 100,
   "source": [
    "re.search(r'\\d+', 'foo123bar')"
   ],
   "outputs": [
    {
     "output_type": "execute_result",
     "data": {
      "text/plain": [
       "<re.Match object; span=(3, 6), match='123'>"
      ]
     },
     "metadata": {},
     "execution_count": 100
    }
   ],
   "metadata": {}
  },
  {
   "cell_type": "code",
   "execution_count": 101,
   "source": [
    "print(re.match(r'\\d+', 'foo123bar'))        # match (chỉ khớp ở đầu chuỗi)"
   ],
   "outputs": [
    {
     "output_type": "stream",
     "name": "stdout",
     "text": [
      "None\n"
     ]
    }
   ],
   "metadata": {}
  },
  {
   "cell_type": "markdown",
   "source": [
    "## References\r\n",
    "* [8 regular expression nên biết](https://code.tutsplus.com/tutorials/8-regular-expressions-you-should-know--net-6149)\r\n",
    "* [CheatSheet](https://www.shortcutfoo.com/app/dojos/python-regex/cheatsheet)\r\n",
    "* [Awesome Regex](https://github.com/aloisdg/awesome-regex)\r\n",
    "* [chuỗi](https://toidicode.com/cac-ham-xu-ly-chuoi-trong-python-368.html)"
   ],
   "metadata": {}
  }
 ],
 "metadata": {
  "orig_nbformat": 4,
  "language_info": {
   "name": "python",
   "version": "3.7.8",
   "mimetype": "text/x-python",
   "codemirror_mode": {
    "name": "ipython",
    "version": 3
   },
   "pygments_lexer": "ipython3",
   "nbconvert_exporter": "python",
   "file_extension": ".py"
  },
  "kernelspec": {
   "name": "python3",
   "display_name": "Python 3.7.8 64-bit"
  },
  "interpreter": {
   "hash": "04635d289a519a1410467dd0afb0db42f9184808881ca68b2eb5a687a20a5a94"
  }
 },
 "nbformat": 4,
 "nbformat_minor": 2
}