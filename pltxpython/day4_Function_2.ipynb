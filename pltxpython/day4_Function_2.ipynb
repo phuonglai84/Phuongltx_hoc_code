{
 "cells": [
  {
   "cell_type": "markdown",
   "source": [
    "## Định nghĩa và gọi Hàm tự viết"
   ],
   "metadata": {}
  },
  {
   "cell_type": "code",
   "execution_count": 1,
   "source": [
    "def do_something():\r\n",
    "    pass\r\n",
    "do_something()"
   ],
   "outputs": [],
   "metadata": {}
  },
  {
   "cell_type": "code",
   "execution_count": 2,
   "source": [
    "def greet():\r\n",
    "    print(\"Chào buổi chiều!!\")\r\n",
    "\r\n",
    "greet()"
   ],
   "outputs": [
    {
     "output_type": "stream",
     "name": "stdout",
     "text": [
      "Chào buổi chiều!!\n"
     ]
    }
   ],
   "metadata": {}
  },
  {
   "cell_type": "code",
   "execution_count": 3,
   "source": [
    "say_hello()"
   ],
   "outputs": [
    {
     "output_type": "error",
     "ename": "NameError",
     "evalue": "name 'say_hello' is not defined",
     "traceback": [
      "\u001b[1;31m---------------------------------------------------------------------------\u001b[0m",
      "\u001b[1;31mNameError\u001b[0m                                 Traceback (most recent call last)",
      "\u001b[1;32mC:\\Users\\PHUONG~1\\AppData\\Local\\Temp/ipykernel_13024/2814888808.py\u001b[0m in \u001b[0;36m<module>\u001b[1;34m\u001b[0m\n\u001b[1;32m----> 1\u001b[1;33m \u001b[0msay_hello\u001b[0m\u001b[1;33m(\u001b[0m\u001b[1;33m)\u001b[0m\u001b[1;33m\u001b[0m\u001b[1;33m\u001b[0m\u001b[0m\n\u001b[0m",
      "\u001b[1;31mNameError\u001b[0m: name 'say_hello' is not defined"
     ]
    }
   ],
   "metadata": {}
  },
  {
   "cell_type": "code",
   "execution_count": 4,
   "source": [
    "# hãy định nghĩa hàm này rồi chạy lại dòng trên\r\n",
    "def say_hello():\r\n",
    "    print(\"Goodbye\")"
   ],
   "outputs": [],
   "metadata": {}
  },
  {
   "cell_type": "code",
   "execution_count": 5,
   "source": [
    "print(some_var)"
   ],
   "outputs": [
    {
     "output_type": "error",
     "ename": "NameError",
     "evalue": "name 'some_var' is not defined",
     "traceback": [
      "\u001b[1;31m---------------------------------------------------------------------------\u001b[0m",
      "\u001b[1;31mNameError\u001b[0m                                 Traceback (most recent call last)",
      "\u001b[1;32mC:\\Users\\PHUONG~1\\AppData\\Local\\Temp/ipykernel_13024/1978054332.py\u001b[0m in \u001b[0;36m<module>\u001b[1;34m\u001b[0m\n\u001b[1;32m----> 1\u001b[1;33m \u001b[0mprint\u001b[0m\u001b[1;33m(\u001b[0m\u001b[0msome_var\u001b[0m\u001b[1;33m)\u001b[0m\u001b[1;33m\u001b[0m\u001b[1;33m\u001b[0m\u001b[0m\n\u001b[0m",
      "\u001b[1;31mNameError\u001b[0m: name 'some_var' is not defined"
     ]
    }
   ],
   "metadata": {}
  },
  {
   "cell_type": "code",
   "execution_count": 6,
   "source": [
    "def causes_error():\r\n",
    "    print(some_var)"
   ],
   "outputs": [],
   "metadata": {}
  },
  {
   "cell_type": "code",
   "execution_count": 7,
   "source": [
    "causes_error()"
   ],
   "outputs": [
    {
     "output_type": "error",
     "ename": "NameError",
     "evalue": "name 'some_var' is not defined",
     "traceback": [
      "\u001b[1;31m---------------------------------------------------------------------------\u001b[0m",
      "\u001b[1;31mNameError\u001b[0m                                 Traceback (most recent call last)",
      "\u001b[1;32mC:\\Users\\PHUONG~1\\AppData\\Local\\Temp/ipykernel_13024/2664050710.py\u001b[0m in \u001b[0;36m<module>\u001b[1;34m\u001b[0m\n\u001b[1;32m----> 1\u001b[1;33m \u001b[0mcauses_error\u001b[0m\u001b[1;33m(\u001b[0m\u001b[1;33m)\u001b[0m\u001b[1;33m\u001b[0m\u001b[1;33m\u001b[0m\u001b[0m\n\u001b[0m",
      "\u001b[1;32mC:\\Users\\PHUONG~1\\AppData\\Local\\Temp/ipykernel_13024/1297854666.py\u001b[0m in \u001b[0;36mcauses_error\u001b[1;34m()\u001b[0m\n\u001b[0;32m      1\u001b[0m \u001b[1;32mdef\u001b[0m \u001b[0mcauses_error\u001b[0m\u001b[1;33m(\u001b[0m\u001b[1;33m)\u001b[0m\u001b[1;33m:\u001b[0m\u001b[1;33m\u001b[0m\u001b[1;33m\u001b[0m\u001b[0m\n\u001b[1;32m----> 2\u001b[1;33m     \u001b[0mprint\u001b[0m\u001b[1;33m(\u001b[0m\u001b[0msome_var\u001b[0m\u001b[1;33m)\u001b[0m\u001b[1;33m\u001b[0m\u001b[1;33m\u001b[0m\u001b[0m\n\u001b[0m",
      "\u001b[1;31mNameError\u001b[0m: name 'some_var' is not defined"
     ]
    }
   ],
   "metadata": {}
  },
  {
   "cell_type": "code",
   "execution_count": 8,
   "source": [
    "def calculate_sum():\r\n",
    "    print(\"Sum of 2, 3, 4 is\", 2 + 3 + 4)\r\n",
    "\r\n",
    "calculate_sum()"
   ],
   "outputs": [
    {
     "output_type": "stream",
     "name": "stdout",
     "text": [
      "Sum of 2, 3, 4 is 9\n"
     ]
    }
   ],
   "metadata": {}
  },
  {
   "cell_type": "code",
   "execution_count": 10,
   "source": [
    "a = 2\r\n",
    "b, c = 3, 4\r\n",
    "\r\n",
    "def calculate_sum():\r\n",
    "    result = a + b +c\r\n",
    "\r\n",
    "    print(\"Sum of a, b, c is\", result)\r\n",
    "\r\n",
    "    if result < 10:\r\n",
    "        print(\"The sum is less than 10\")\r\n",
    "\r\n",
    "calculate_sum()"
   ],
   "outputs": [
    {
     "output_type": "stream",
     "name": "stdout",
     "text": [
      "Sum of a, b, c is 9\n",
      "The sum is less than 10\n"
     ]
    }
   ],
   "metadata": {}
  },
  {
   "cell_type": "code",
   "execution_count": 11,
   "source": [
    "a = 1\r\n",
    "calculate_sum()"
   ],
   "outputs": [
    {
     "output_type": "stream",
     "name": "stdout",
     "text": [
      "Sum of a, b, c is 8\n",
      "The sum is less than 10\n"
     ]
    }
   ],
   "metadata": {}
  },
  {
   "cell_type": "markdown",
   "source": [
    "## Truyền đối số và giá trị trả về"
   ],
   "metadata": {}
  },
  {
   "cell_type": "code",
   "execution_count": 13,
   "source": [
    "def calculate_sum(a, b, c):     # scope of variable, stack \r\n",
    "    result = a + b + c\r\n",
    "    print(\"Sum of a, b, c is\", result)\r\n",
    "    print(c)\r\n",
    "\r\n",
    "    if result < 10:\r\n",
    "        print(\"The sum is less than 10!\")\r\n",
    "    else:\r\n",
    "        print(\"The sum is greater than 10!\")\r\n",
    "\r\n",
    "calculate_sum(10, 10, 2)\r\n",
    "print(c)"
   ],
   "outputs": [
    {
     "output_type": "stream",
     "name": "stdout",
     "text": [
      "Sum of a, b, c is 22\n",
      "2\n",
      "The sum is greater than 10!\n",
      "4\n"
     ]
    }
   ],
   "metadata": {}
  },
  {
   "cell_type": "code",
   "execution_count": 14,
   "source": [
    "calculate_sum(10, 10, 10)"
   ],
   "outputs": [
    {
     "output_type": "stream",
     "name": "stdout",
     "text": [
      "Sum of a, b, c is 30\n",
      "10\n",
      "The sum is greater than 10!\n"
     ]
    }
   ],
   "metadata": {}
  },
  {
   "cell_type": "code",
   "execution_count": 15,
   "source": [
    "x, y, z = 100, 200, 300\r\n",
    "calculate_sum(x, y, z)\r\n",
    "print(f\"{a}, {b}, {c}\")"
   ],
   "outputs": [
    {
     "output_type": "stream",
     "name": "stdout",
     "text": [
      "Sum of a, b, c is 600\n",
      "300\n",
      "The sum is greater than 10!\n",
      "1, 3, 4\n"
     ]
    }
   ],
   "metadata": {}
  },
  {
   "cell_type": "code",
   "execution_count": 16,
   "source": [
    "def luy_thua(num, exponent):\r\n",
    "    power = num ** exponent\r\n",
    "    return power\r\n",
    "\r\n",
    "luy_thua(5, 2)"
   ],
   "outputs": [
    {
     "output_type": "execute_result",
     "data": {
      "text/plain": [
       "25"
      ]
     },
     "metadata": {},
     "execution_count": 16
    }
   ],
   "metadata": {}
  },
  {
   "cell_type": "code",
   "execution_count": 17,
   "source": [
    "result = luy_thua(4, 2)\r\n",
    "result"
   ],
   "outputs": [
    {
     "output_type": "execute_result",
     "data": {
      "text/plain": [
       "16"
      ]
     },
     "metadata": {},
     "execution_count": 17
    }
   ],
   "metadata": {}
  },
  {
   "cell_type": "code",
   "execution_count": 18,
   "source": [
    "def square_and_cube(num):\r\n",
    "    square = num ** 2\r\n",
    "    cube = num ** 3\r\n",
    "    return square, cube\r\n",
    "\r\n",
    "square_and_cube(12)"
   ],
   "outputs": [
    {
     "output_type": "execute_result",
     "data": {
      "text/plain": [
       "(144, 1728)"
      ]
     },
     "metadata": {},
     "execution_count": 18
    }
   ],
   "metadata": {}
  },
  {
   "cell_type": "code",
   "execution_count": 19,
   "source": [
    "# gán kết quả về cho 2 biến riêng biệt\r\n",
    "n_square, n_triple = square_and_cube(5)\r\n",
    "print(n_square, n_triple)"
   ],
   "outputs": [
    {
     "output_type": "stream",
     "name": "stdout",
     "text": [
      "25 125\n"
     ]
    }
   ],
   "metadata": {}
  },
  {
   "cell_type": "code",
   "execution_count": 21,
   "source": [
    "def divisible_by_5(num):\r\n",
    "    if num % 5 == 0:\r\n",
    "        return \"This number is divisible by 5\"\r\n",
    "\r\n",
    "# what happen when it's not?"
   ],
   "outputs": [],
   "metadata": {}
  },
  {
   "cell_type": "markdown",
   "source": [
    "## Thay đổi đối số đầu vào"
   ],
   "metadata": {}
  },
  {
   "cell_type": "code",
   "execution_count": 22,
   "source": [
    "int_var = 3\r\n",
    "float_var = 2.5\r\n",
    "string_var = \"Hello\"\r\n",
    "bool_var = True"
   ],
   "outputs": [],
   "metadata": {}
  },
  {
   "cell_type": "code",
   "execution_count": 23,
   "source": [
    "def reassign_primitive_arguments(int_var, float_var, string_var, bool_var):\r\n",
    "    int_var = 30\r\n",
    "    float_var = 30.3\r\n",
    "    string_var += \"Goodbye!!\"  # <---- string is immutable, ở đây tạo biến thành biến mới cùng tên trong local stack\r\n",
    "    bool_var = False\r\n",
    "    \r\n",
    "    print(\"Inside the function: \", int_var, float_var, string_var, bool_var)"
   ],
   "outputs": [],
   "metadata": {}
  },
  {
   "cell_type": "code",
   "execution_count": 24,
   "source": [
    "print(\"Outside the function: \", int_var, float_var, string_var, bool_var)\r\n",
    "reassign_primitive_arguments(int_var, float_var, string_var, bool_var)\r\n",
    "print(\"Outside the function: \", int_var, float_var, string_var, bool_var)"
   ],
   "outputs": [
    {
     "output_type": "stream",
     "name": "stdout",
     "text": [
      "Outside the function:  3 2.5 Hello True\n",
      "Inside the function:  30 30.3 HelloGoodbye!! False\n",
      "Outside the function:  3 2.5 Hello True\n"
     ]
    }
   ],
   "metadata": {}
  },
  {
   "cell_type": "code",
   "execution_count": 25,
   "source": [
    "a_list = ['VietNam', 'China', 'US']\r\n",
    "a_tuple = ('Cầu Giấy', 'Bình Thạnh')\r\n",
    "a_dictionary = {'Cầu Giấy': 30, 'Bình Thạnh': 9000}"
   ],
   "outputs": [],
   "metadata": {}
  },
  {
   "cell_type": "code",
   "execution_count": 26,
   "source": [
    "def reassign_arguments(a_list, a_tuple, a_dictionary):\r\n",
    "    a_list = ['Russia']\r\n",
    "    a_tuple = ('Thủ Đức')\r\n",
    "    a_dictionary = {'Thủ Đức': 13000}\r\n",
    "\r\n",
    "    print(\"Inside the function: \", a_list, a_tuple, a_dictionary)"
   ],
   "outputs": [],
   "metadata": {}
  },
  {
   "cell_type": "code",
   "execution_count": 27,
   "source": [
    "print(\"Outside the function: \", a_list, a_tuple, a_dictionary)\r\n",
    "reassign_arguments(a_list, a_tuple, a_dictionary)\r\n",
    "print(\"Outside the function: \", a_list, a_tuple, a_dictionary)"
   ],
   "outputs": [
    {
     "output_type": "stream",
     "name": "stdout",
     "text": [
      "Outside the function:  ['VietNam', 'China', 'US'] ('Cầu Giấy', 'Bình Thạnh') {'Cầu Giấy': 30, 'Bình Thạnh': 9000}\n",
      "Inside the function:  ['Russia'] Thủ Đức {'Thủ Đức': 13000}\n",
      "Outside the function:  ['VietNam', 'China', 'US'] ('Cầu Giấy', 'Bình Thạnh') {'Cầu Giấy': 30, 'Bình Thạnh': 9000}\n"
     ]
    }
   ],
   "metadata": {}
  },
  {
   "cell_type": "code",
   "execution_count": 28,
   "source": [
    "logistic_centers = ['Bắc Ninh', 'Bình Dương', 'Tân Vạn', 'Bắc Giang']\r\n",
    "def modify_list(logistic_center):\r\n",
    "    logistic_center.append('Cần Thơ')"
   ],
   "outputs": [],
   "metadata": {}
  },
  {
   "cell_type": "code",
   "execution_count": 29,
   "source": [
    "modify_list(logistic_centers)\r\n",
    "logistic_centers"
   ],
   "outputs": [
    {
     "output_type": "execute_result",
     "data": {
      "text/plain": [
       "['Bắc Ninh', 'Bình Dương', 'Tân Vạn', 'Bắc Giang', 'Cần Thơ']"
      ]
     },
     "metadata": {},
     "execution_count": 29
    }
   ],
   "metadata": {}
  },
  {
   "cell_type": "code",
   "execution_count": 30,
   "source": [
    "def modify_list(a_list):\r\n",
    "    # a_list = [2, 4, 5, 6]\r\n",
    "    a_list[1] = \"Đà Nẵng\"\r\n",
    "    a_list.pop()"
   ],
   "outputs": [],
   "metadata": {}
  },
  {
   "cell_type": "code",
   "execution_count": 31,
   "source": [
    "modify_list(logistic_centers)\r\n",
    "logistic_centers"
   ],
   "outputs": [
    {
     "output_type": "execute_result",
     "data": {
      "text/plain": [
       "['Bắc Ninh', 'Đà Nẵng', 'Tân Vạn', 'Bắc Giang']"
      ]
     },
     "metadata": {},
     "execution_count": 31
    }
   ],
   "metadata": {}
  },
  {
   "cell_type": "code",
   "execution_count": 32,
   "source": [
    "def modify_dict(a_dict):\r\n",
    "    del a_dict['Cầu Giấy']\r\n",
    "\r\n",
    "    a_dict['Bình Thạnh'] = 9500\r\n",
    "    a_dict = {}\r\n",
    "\r\n",
    "modify_dict(a_dictionary)\r\n",
    "a_dictionary"
   ],
   "outputs": [
    {
     "output_type": "execute_result",
     "data": {
      "text/plain": [
       "{'Bình Thạnh': 9500}"
      ]
     },
     "metadata": {},
     "execution_count": 32
    }
   ],
   "metadata": {}
  },
  {
   "cell_type": "markdown",
   "source": [
    "## Đối số có từ khóa - Keyword Arguments"
   ],
   "metadata": {}
  },
  {
   "cell_type": "code",
   "execution_count": 65,
   "source": [
    "def vinfast_car(model, year, hp, engine, zero_to_sixty, top_speed, price):\r\n",
    "    other_details = hp, engine, zero_to_sixty, top_speed, price\r\n",
    "\r\n",
    "    print(\"Name of the car: Vinfast \", model)\r\n",
    "    print(\"Year: \", year)\r\n",
    "    print(\"0 to 60: \", zero_to_sixty)\r\n",
    "    print(\"Price: \", price)\r\n",
    "    print(\"Remaining details (hp, engine, zero_to_sixty, top_speed, price): \", other_details)"
   ],
   "outputs": [],
   "metadata": {}
  },
  {
   "cell_type": "code",
   "execution_count": 34,
   "source": [
    "vinfast_car(\"Lux SA2.0\", \r\n",
    "            \"2020\", \r\n",
    "            228, \r\n",
    "            2.0,\r\n",
    "            4.9,\r\n",
    "            250,\r\n",
    "            1074450000)"
   ],
   "outputs": [
    {
     "output_type": "stream",
     "name": "stdout",
     "text": [
      "Name of the car: Vinfast  Lux SA2.0\n",
      "Year:  2020\n",
      "0 to 60:  4.9\n",
      "Price:  1074450000\n",
      "Remaining details (hp, engine, zero_to_sixty, top_speed, price):  (228, 2.0, 4.9, 250, 1074450000)\n"
     ]
    }
   ],
   "metadata": {}
  },
  {
   "cell_type": "code",
   "execution_count": 38,
   "source": [
    "vinfast_car(\"Lux SA2.0\", \r\n",
    "            \"2020\", \r\n",
    "            228, \r\n",
    "            2.0,\r\n",
    "            1074450000)"
   ],
   "outputs": [
    {
     "output_type": "error",
     "ename": "TypeError",
     "evalue": "vinfast_car() missing 2 required positional arguments: 'top_speed' and 'price'",
     "traceback": [
      "\u001b[1;31m---------------------------------------------------------------------------\u001b[0m",
      "\u001b[1;31mTypeError\u001b[0m                                 Traceback (most recent call last)",
      "\u001b[1;32mC:\\Users\\PHUONG~1\\AppData\\Local\\Temp/ipykernel_13024/997332278.py\u001b[0m in \u001b[0;36m<module>\u001b[1;34m\u001b[0m\n\u001b[0;32m      3\u001b[0m             \u001b[1;36m228\u001b[0m\u001b[1;33m,\u001b[0m\u001b[1;33m\u001b[0m\u001b[1;33m\u001b[0m\u001b[0m\n\u001b[0;32m      4\u001b[0m             \u001b[1;36m2.0\u001b[0m\u001b[1;33m,\u001b[0m\u001b[1;33m\u001b[0m\u001b[1;33m\u001b[0m\u001b[0m\n\u001b[1;32m----> 5\u001b[1;33m             1074450000)\n\u001b[0m",
      "\u001b[1;31mTypeError\u001b[0m: vinfast_car() missing 2 required positional arguments: 'top_speed' and 'price'"
     ]
    }
   ],
   "metadata": {}
  },
  {
   "cell_type": "code",
   "execution_count": 36,
   "source": [
    "vinfast_car(\"Lux SA2.0\", \r\n",
    "            \"2020\", \r\n",
    "            hp=228, \r\n",
    "            engine=2.0,\r\n",
    "            zero_to_sixty=4.9,\r\n",
    "            top_speed=250,\r\n",
    "            price=1074450000)"
   ],
   "outputs": [
    {
     "output_type": "stream",
     "name": "stdout",
     "text": [
      "Name of the car: Vinfast  Lux SA2.0\n",
      "Year:  2020\n",
      "0 to 60:  4.9\n",
      "Price:  1074450000\n",
      "Remaining details (hp, engine, zero_to_sixty, top_speed, price):  (228, 2.0, 4.9, 250, 1074450000)\n"
     ]
    }
   ],
   "metadata": {}
  },
  {
   "cell_type": "code",
   "execution_count": 37,
   "source": [
    "vinfast_car(\"Lux SA2.0\", \r\n",
    "            \"2020\", \r\n",
    "            hp=228, \r\n",
    "            2.0,\r\n",
    "            zerotosixty=4.9,\r\n",
    "            top_speed=250,\r\n",
    "            price=1074450000)"
   ],
   "outputs": [
    {
     "output_type": "error",
     "ename": "SyntaxError",
     "evalue": "positional argument follows keyword argument (Temp/ipykernel_13024/1039095947.py, line 4)",
     "traceback": [
      "\u001b[1;36m  File \u001b[1;32m\"C:\\Users\\PHUONG~1\\AppData\\Local\\Temp/ipykernel_13024/1039095947.py\"\u001b[1;36m, line \u001b[1;32m4\u001b[0m\n\u001b[1;33m    2.0,\u001b[0m\n\u001b[1;37m    ^\u001b[0m\n\u001b[1;31mSyntaxError\u001b[0m\u001b[1;31m:\u001b[0m positional argument follows keyword argument\n"
     ]
    }
   ],
   "metadata": {}
  },
  {
   "cell_type": "code",
   "execution_count": 40,
   "source": [
    "def vinfast_car(model, year, hp, engine, zero_to_sixty, top_speed, price=976000000):\r\n",
    "    other_details = hp, engine, zero_to_sixty, top_speed, price\r\n",
    "\r\n",
    "    print(\"Name of the car: Vinfast \", model)\r\n",
    "    print(\"Year: \", year)\r\n",
    "    print(\"0 to 60: \", zero_to_sixty)\r\n",
    "    print(\"Price: \", price)\r\n",
    "    print(\"Remaining details (hp, engine, zero_to_sixty, top_speed, price): \", other_details)"
   ],
   "outputs": [],
   "metadata": {}
  },
  {
   "cell_type": "code",
   "execution_count": 39,
   "source": [
    "vinfast_car(\"Lux SA2.0\", \r\n",
    "            \"2020\", \r\n",
    "            hp=228, \r\n",
    "            engine=2.0,\r\n",
    "            zero_to_sixty=4.9,\r\n",
    "            top_speed=250)"
   ],
   "outputs": [
    {
     "output_type": "error",
     "ename": "TypeError",
     "evalue": "vinfast_car() missing 1 required positional argument: 'price'",
     "traceback": [
      "\u001b[1;31m---------------------------------------------------------------------------\u001b[0m",
      "\u001b[1;31mTypeError\u001b[0m                                 Traceback (most recent call last)",
      "\u001b[1;32mC:\\Users\\PHUONG~1\\AppData\\Local\\Temp/ipykernel_13024/2314562544.py\u001b[0m in \u001b[0;36m<module>\u001b[1;34m\u001b[0m\n\u001b[0;32m      4\u001b[0m             \u001b[0mengine\u001b[0m\u001b[1;33m=\u001b[0m\u001b[1;36m2.0\u001b[0m\u001b[1;33m,\u001b[0m\u001b[1;33m\u001b[0m\u001b[1;33m\u001b[0m\u001b[0m\n\u001b[0;32m      5\u001b[0m             \u001b[0mzero_to_sixty\u001b[0m\u001b[1;33m=\u001b[0m\u001b[1;36m4.9\u001b[0m\u001b[1;33m,\u001b[0m\u001b[1;33m\u001b[0m\u001b[1;33m\u001b[0m\u001b[0m\n\u001b[1;32m----> 6\u001b[1;33m             top_speed=250)\n\u001b[0m",
      "\u001b[1;31mTypeError\u001b[0m: vinfast_car() missing 1 required positional argument: 'price'"
     ]
    }
   ],
   "metadata": {}
  },
  {
   "cell_type": "code",
   "execution_count": 41,
   "source": [
    "def vinfast_car_all_keywords(model=\"Lux 2.0\", year=\"2020\", hp=228, engine=2.0, zero_to_sixty=4.8, top_speed=250, price=976000000):\r\n",
    "    other_details = hp, engine, zero_to_sixty, top_speed, price\r\n",
    "\r\n",
    "    print(\"Name of the car: Vinfast \", model)\r\n",
    "    print(\"Year: \", year)\r\n",
    "    print(\"0 to 60: \", zero_to_sixty)\r\n",
    "    print(\"Price: \", price)\r\n",
    "    print(\"Remaining details (hp, engine, zero_to_sixty, top_speed, price): \", other_details)\r\n",
    "\r\n",
    "vinfast_car_all_keywords()"
   ],
   "outputs": [
    {
     "output_type": "stream",
     "name": "stdout",
     "text": [
      "Name of the car: Vinfast  Lux 2.0\n",
      "Year:  2020\n",
      "0 to 60:  4.8\n",
      "Price:  976000000\n",
      "Remaining details (hp, engine, zero_to_sixty, top_speed, price):  (228, 2.0, 4.8, 250, 976000000)\n"
     ]
    }
   ],
   "metadata": {}
  },
  {
   "cell_type": "code",
   "execution_count": 42,
   "source": [
    "vinfast_car(year=\"2021\", price=1345000000)"
   ],
   "outputs": [
    {
     "output_type": "error",
     "ename": "TypeError",
     "evalue": "vinfast_car() missing 5 required positional arguments: 'model', 'hp', 'engine', 'zero_to_sixty', and 'top_speed'",
     "traceback": [
      "\u001b[1;31m---------------------------------------------------------------------------\u001b[0m",
      "\u001b[1;31mTypeError\u001b[0m                                 Traceback (most recent call last)",
      "\u001b[1;32mC:\\Users\\PHUONG~1\\AppData\\Local\\Temp/ipykernel_13024/3506368549.py\u001b[0m in \u001b[0;36m<module>\u001b[1;34m\u001b[0m\n\u001b[1;32m----> 1\u001b[1;33m \u001b[0mvinfast_car\u001b[0m\u001b[1;33m(\u001b[0m\u001b[0myear\u001b[0m\u001b[1;33m=\u001b[0m\u001b[1;34m\"2021\"\u001b[0m\u001b[1;33m,\u001b[0m \u001b[0mprice\u001b[0m\u001b[1;33m=\u001b[0m\u001b[1;36m1345000000\u001b[0m\u001b[1;33m)\u001b[0m\u001b[1;33m\u001b[0m\u001b[1;33m\u001b[0m\u001b[0m\n\u001b[0m",
      "\u001b[1;31mTypeError\u001b[0m: vinfast_car() missing 5 required positional arguments: 'model', 'hp', 'engine', 'zero_to_sixty', and 'top_speed'"
     ]
    }
   ],
   "metadata": {}
  },
  {
   "cell_type": "markdown",
   "source": [
    "## List/Dictionary unpacking"
   ],
   "metadata": {}
  },
  {
   "cell_type": "code",
   "execution_count": 53,
   "source": [
    "vals = [28, 2.0, 4.9, 250, 1074450000]\r\n",
    "hp, engine, zero_to_sixty, top_speed, price = vals\r\n"
   ],
   "outputs": [],
   "metadata": {}
  },
  {
   "cell_type": "code",
   "execution_count": 54,
   "source": [
    "print(hp, engine, zero_to_sixty, top_speed, price)\r\n"
   ],
   "outputs": [
    {
     "output_type": "stream",
     "name": "stdout",
     "text": [
      "28 2.0 4.9 250 1074450000\n"
     ]
    }
   ],
   "metadata": {}
  },
  {
   "cell_type": "code",
   "execution_count": 44,
   "source": [
    "hp, engine, zero_to_sixty, top_speed = vals"
   ],
   "outputs": [
    {
     "output_type": "error",
     "ename": "ValueError",
     "evalue": "too many values to unpack (expected 4)",
     "traceback": [
      "\u001b[1;31m---------------------------------------------------------------------------\u001b[0m",
      "\u001b[1;31mValueError\u001b[0m                                Traceback (most recent call last)",
      "\u001b[1;32mC:\\Users\\PHUONG~1\\AppData\\Local\\Temp/ipykernel_13024/1362294913.py\u001b[0m in \u001b[0;36m<module>\u001b[1;34m\u001b[0m\n\u001b[1;32m----> 1\u001b[1;33m \u001b[0mhp\u001b[0m\u001b[1;33m,\u001b[0m \u001b[0mengine\u001b[0m\u001b[1;33m,\u001b[0m \u001b[0mzero_to_sixty\u001b[0m\u001b[1;33m,\u001b[0m \u001b[0mtop_speed\u001b[0m \u001b[1;33m=\u001b[0m \u001b[0mvals\u001b[0m\u001b[1;33m\u001b[0m\u001b[1;33m\u001b[0m\u001b[0m\n\u001b[0m",
      "\u001b[1;31mValueError\u001b[0m: too many values to unpack (expected 4)"
     ]
    }
   ],
   "metadata": {}
  },
  {
   "cell_type": "code",
   "execution_count": 56,
   "source": [
    "*others, price = vals         #lấy ra list các phần tử còn lại trừ price\r\n",
    "others"
   ],
   "outputs": [
    {
     "output_type": "execute_result",
     "data": {
      "text/plain": [
       "[28, 2.0, 4.9, 250]"
      ]
     },
     "metadata": {},
     "execution_count": 56
    }
   ],
   "metadata": {}
  },
  {
   "cell_type": "code",
   "execution_count": 63,
   "source": [
    "print(others, price)\r\n"
   ],
   "outputs": [
    {
     "output_type": "stream",
     "name": "stdout",
     "text": [
      "[4.9, 250, 1074450000] 1074450000\n"
     ]
    }
   ],
   "metadata": {}
  },
  {
   "cell_type": "code",
   "execution_count": 58,
   "source": [
    "hp, engine, *others = vals      # chỉ được phép có 1 dấu *\r\n",
    "others"
   ],
   "outputs": [
    {
     "output_type": "execute_result",
     "data": {
      "text/plain": [
       "[4.9, 250, 1074450000]"
      ]
     },
     "metadata": {},
     "execution_count": 58
    }
   ],
   "metadata": {}
  },
  {
   "cell_type": "code",
   "execution_count": 60,
   "source": [
    "# tương tự cho dictionary nhưng với **\r\n",
    "numbers = {\"one\": 1, \"two\": 2, \"three\": 3}\r\n",
    "letters = {\"a\": \"A\", \"b\": \"B\", \"c\": \"C\"}\r\n",
    "combination = {**numbers, **letters}\r\n",
    "combination"
   ],
   "outputs": [
    {
     "output_type": "execute_result",
     "data": {
      "text/plain": [
       "{'one': 1, 'two': 2, 'three': 3, 'a': 'A', 'b': 'B', 'c': 'C'}"
      ]
     },
     "metadata": {},
     "execution_count": 60
    }
   ],
   "metadata": {}
  },
  {
   "cell_type": "code",
   "execution_count": 84,
   "source": [
    "def myFun(*thuxem):  # dùng *xxx để k giới hạn đối số cho hàm myFun\r\n",
    "    for i in thuxem:  \r\n",
    "        print (i) \r\n",
    "    \r\n",
    "myFun('Hello', 'Welcome', 'to', 'cafedevn', 8)  "
   ],
   "outputs": [
    {
     "output_type": "stream",
     "name": "stdout",
     "text": [
      "Hello\n",
      "Welcome\n",
      "to\n",
      "cafedevn\n",
      "8\n"
     ]
    }
   ],
   "metadata": {}
  },
  {
   "cell_type": "code",
   "execution_count": 88,
   "source": [
    "def vinfast_car_all_keywords(**kwargs):\r\n",
    "    for arg in kwargs.items():\r\n",
    "        print(f\"{arg[0]}: {arg[1]}\")\r\n",
    "        print(arg)\r\n",
    "\r\n",
    "vinfast_car_all_keywords(model=\"Lux 2.0\", year=\"2020\", hp=228, engine=2.0, zero_to_sixty=4.8, top_speed=250, price=976000000)"
   ],
   "outputs": [
    {
     "output_type": "stream",
     "name": "stdout",
     "text": [
      "model: Lux 2.0\n",
      "('model', 'Lux 2.0')\n",
      "year: 2020\n",
      "('year', '2020')\n",
      "hp: 228\n",
      "('hp', 228)\n",
      "engine: 2.0\n",
      "('engine', 2.0)\n",
      "zero_to_sixty: 4.8\n",
      "('zero_to_sixty', 4.8)\n",
      "top_speed: 250\n",
      "('top_speed', 250)\n",
      "price: 976000000\n",
      "('price', 976000000)\n"
     ]
    }
   ],
   "metadata": {}
  },
  {
   "cell_type": "code",
   "execution_count": 80,
   "source": [
    ">>> year = 2016\r\n",
    ">>> event = 'Referendum'\r\n",
    ">>> f'Results of the {year} {event} nhé'\r\n"
   ],
   "outputs": [
    {
     "output_type": "execute_result",
     "data": {
      "text/plain": [
       "'Results of the 2016 Referendum nhé'"
      ]
     },
     "metadata": {},
     "execution_count": 80
    }
   ],
   "metadata": {}
  },
  {
   "cell_type": "code",
   "execution_count": 76,
   "source": [
    "name = 1\r\n",
    "\r\n",
    "print(f\"My name is {name}.\")\r\n",
    "print('My name is {} nhé' .format('Mai'))"
   ],
   "outputs": [
    {
     "output_type": "stream",
     "name": "stdout",
     "text": [
      "My name is 1.\n",
      "My name is Mai nhé\n"
     ]
    }
   ],
   "metadata": {}
  },
  {
   "cell_type": "code",
   "execution_count": 62,
   "source": [
    "# correct_function_definition.py\r\n",
    "def my_function(a, b, *args, **kwargs):\r\n",
    "    print(f\"{a} & {b} là các standard arguments\")\r\n",
    "    print(\"*args là các positional arguments\")\r\n",
    "    for arg in args:\r\n",
    "        print(f\"\\t{arg}\")\r\n",
    "    print(\"**kwargs là các named hoặc keyword arguments\")\r\n",
    "    for arg in kwargs.items():\r\n",
    "        print(f\"\\t{arg[0]}: {arg[1]}\")\r\n",
    "\r\n",
    "my_function(\"Lớp Python học vào\", \"thứ 3-5-7 có\", 40, \"bạn học viên\", coordinator=\"Vinh\", groups=8)"
   ],
   "outputs": [
    {
     "output_type": "stream",
     "name": "stdout",
     "text": [
      "Lớp Python học vào & thứ 3-5-7 có là các standard arguments\n",
      "*args là các positional arguments\n",
      "\t40\n",
      "\tbạn học viên\n",
      "**kwargs là các named hoặc keyword arguments\n",
      "\tcoordinator: Vinh\n",
      "\tgroups: 8\n"
     ]
    }
   ],
   "metadata": {}
  },
  {
   "cell_type": "markdown",
   "source": [
    "## Hàm như một đối tượng hạng nhất"
   ],
   "metadata": {}
  },
  {
   "cell_type": "code",
   "execution_count": 66,
   "source": [
    "def my_car(car):\r\n",
    "    print(\"My car is a\", car)\r\n",
    "\r\n",
    "my_car(\"Vinfast Lux 2.0\")"
   ],
   "outputs": [
    {
     "output_type": "stream",
     "name": "stdout",
     "text": [
      "My car is a Vinfast Lux 2.0\n"
     ]
    }
   ],
   "metadata": {}
  },
  {
   "cell_type": "code",
   "execution_count": 67,
   "source": [
    "my_car"
   ],
   "outputs": [
    {
     "output_type": "execute_result",
     "data": {
      "text/plain": [
       "<function __main__.my_car(car)>"
      ]
     },
     "metadata": {},
     "execution_count": 67
    }
   ],
   "metadata": {}
  },
  {
   "cell_type": "code",
   "execution_count": 68,
   "source": [
    "car_fn = my_car"
   ],
   "outputs": [],
   "metadata": {}
  },
  {
   "cell_type": "code",
   "execution_count": 69,
   "source": [
    "car_fn(\"Toyota\")"
   ],
   "outputs": [
    {
     "output_type": "stream",
     "name": "stdout",
     "text": [
      "My car is a Toyota\n"
     ]
    }
   ],
   "metadata": {}
  },
  {
   "cell_type": "code",
   "execution_count": 70,
   "source": [
    "maximum = max"
   ],
   "outputs": [],
   "metadata": {}
  },
  {
   "cell_type": "code",
   "execution_count": 71,
   "source": [
    "num_list = [56, 3, 5, 1467, 23]\r\n",
    "maximum(num_list)"
   ],
   "outputs": [
    {
     "output_type": "execute_result",
     "data": {
      "text/plain": [
       "1467"
      ]
     },
     "metadata": {},
     "execution_count": 71
    }
   ],
   "metadata": {}
  },
  {
   "cell_type": "code",
   "execution_count": null,
   "source": [
    "maximum == max"
   ],
   "outputs": [],
   "metadata": {}
  },
  {
   "cell_type": "code",
   "execution_count": null,
   "source": [
    "d = {\"cat\": 1, my_car: 2, 42: 3}\r\n",
    "d[my_car]"
   ],
   "outputs": [],
   "metadata": {}
  },
  {
   "cell_type": "code",
   "execution_count": null,
   "source": [
    "def calculate_importTax(price, type_of_item):\r\n",
    "    if type_of_item == \"Product\":\r\n",
    "        return price * 1.1\r\n",
    "    elif type_of_item == \"Service\":\r\n",
    "        return price * 1.05\r\n",
    "\r\n",
    "    return price * 1.5"
   ],
   "outputs": [],
   "metadata": {}
  },
  {
   "cell_type": "code",
   "execution_count": null,
   "source": [
    "def calculate_VAT(price, type_of_item):\r\n",
    "    return price * 1.1"
   ],
   "outputs": [],
   "metadata": {}
  },
  {
   "cell_type": "code",
   "execution_count": null,
   "source": [
    "type_of_tax = calculate_importTax"
   ],
   "outputs": [],
   "metadata": {}
  },
  {
   "cell_type": "code",
   "execution_count": null,
   "source": [
    "type_of_tax(1000, \"Product\")"
   ],
   "outputs": [],
   "metadata": {}
  },
  {
   "cell_type": "code",
   "execution_count": null,
   "source": [
    "type_of_tax(1000, \"Service\")"
   ],
   "outputs": [],
   "metadata": {}
  },
  {
   "cell_type": "code",
   "execution_count": null,
   "source": [
    "type_of_tax = calculate_VAT"
   ],
   "outputs": [],
   "metadata": {}
  },
  {
   "cell_type": "code",
   "execution_count": null,
   "source": [
    "type_of_tax(1000, \"Product\")"
   ],
   "outputs": [],
   "metadata": {}
  },
  {
   "cell_type": "code",
   "execution_count": null,
   "source": [
    "type_of_tax(1000, \"Service\")"
   ],
   "outputs": [],
   "metadata": {}
  },
  {
   "cell_type": "code",
   "execution_count": null,
   "source": [
    "def find_tax_calculator(type_of_tax):\r\n",
    "    if type_of_tax == \"importTax\":\r\n",
    "        return calculate_importTax\r\n",
    "    elif type_of_tax == \"VAT\":\r\n",
    "        return calculate_VAT"
   ],
   "outputs": [],
   "metadata": {}
  },
  {
   "cell_type": "code",
   "execution_count": null,
   "source": [
    "importTax_fn = find_tax_calculator(\"importTax\")\r\n",
    "importTax_fn"
   ],
   "outputs": [],
   "metadata": {}
  },
  {
   "cell_type": "code",
   "execution_count": null,
   "source": [
    "vat_fn = find_tax_calculator(\"VAT\")\r\n",
    "vat_fn"
   ],
   "outputs": [],
   "metadata": {}
  },
  {
   "cell_type": "code",
   "execution_count": null,
   "source": [
    "importTax_fn(1000, \"Product\")"
   ],
   "outputs": [],
   "metadata": {}
  },
  {
   "cell_type": "code",
   "execution_count": null,
   "source": [
    "vat_fn(1000, \"Product\")"
   ],
   "outputs": [],
   "metadata": {}
  },
  {
   "cell_type": "code",
   "execution_count": null,
   "source": [
    "def get_price_plus_taxes(price, type_of_item, tax_fn):\r\n",
    "    return tax_fn(price, type_of_item)"
   ],
   "outputs": [],
   "metadata": {}
  },
  {
   "cell_type": "code",
   "execution_count": null,
   "source": [
    "get_price_plus_taxes(2000, \"Product\", tax_fn=calculate_importTax)"
   ],
   "outputs": [],
   "metadata": {}
  },
  {
   "cell_type": "code",
   "execution_count": null,
   "source": [
    "get_price_plus_taxes(2000, \"Product\", tax_fn=calculate_VAT)"
   ],
   "outputs": [],
   "metadata": {}
  },
  {
   "cell_type": "markdown",
   "source": [
    "## Sorted"
   ],
   "metadata": {}
  },
  {
   "cell_type": "code",
   "execution_count": 72,
   "source": [
    "string_value = 'I like to sort'\r\n",
    "sorted_string = sorted(string_value)\r\n",
    "sorted_string"
   ],
   "outputs": [
    {
     "output_type": "execute_result",
     "data": {
      "text/plain": [
       "[' ', ' ', ' ', 'I', 'e', 'i', 'k', 'l', 'o', 'o', 'r', 's', 't', 't']"
      ]
     },
     "metadata": {},
     "execution_count": 72
    }
   ],
   "metadata": {}
  },
  {
   "cell_type": "code",
   "execution_count": 73,
   "source": [
    "sorted_string = sorted(string_value.split())\r\n",
    "sorted_string"
   ],
   "outputs": [
    {
     "output_type": "execute_result",
     "data": {
      "text/plain": [
       "['I', 'like', 'sort', 'to']"
      ]
     },
     "metadata": {},
     "execution_count": 73
    }
   ],
   "metadata": {}
  },
  {
   "cell_type": "code",
   "execution_count": 74,
   "source": [
    "' '.join(sorted_string)"
   ],
   "outputs": [
    {
     "output_type": "execute_result",
     "data": {
      "text/plain": [
       "'I like sort to'"
      ]
     },
     "metadata": {},
     "execution_count": 74
    }
   ],
   "metadata": {}
  },
  {
   "cell_type": "code",
   "execution_count": 75,
   "source": [
    "# Non-comparable data type can't be sorted()\r\n",
    "mixed_types = [\"VN\", 0, \"Australia\", 1]\r\n",
    "sorted(mixed_types)"
   ],
   "outputs": [
    {
     "output_type": "error",
     "ename": "TypeError",
     "evalue": "'<' not supported between instances of 'int' and 'str'",
     "traceback": [
      "\u001b[1;31m---------------------------------------------------------------------------\u001b[0m",
      "\u001b[1;31mTypeError\u001b[0m                                 Traceback (most recent call last)",
      "\u001b[1;32mC:\\Users\\PHUONG~1\\AppData\\Local\\Temp/ipykernel_13024/1950129792.py\u001b[0m in \u001b[0;36m<module>\u001b[1;34m\u001b[0m\n\u001b[0;32m      1\u001b[0m \u001b[1;31m# Non-comparable data type can't be sorted()\u001b[0m\u001b[1;33m\u001b[0m\u001b[1;33m\u001b[0m\u001b[1;33m\u001b[0m\u001b[0m\n\u001b[0;32m      2\u001b[0m \u001b[0mmixed_types\u001b[0m \u001b[1;33m=\u001b[0m \u001b[1;33m[\u001b[0m\u001b[1;34m\"VN\"\u001b[0m\u001b[1;33m,\u001b[0m \u001b[1;36m0\u001b[0m\u001b[1;33m,\u001b[0m \u001b[1;34m\"Australia\"\u001b[0m\u001b[1;33m,\u001b[0m \u001b[1;36m1\u001b[0m\u001b[1;33m]\u001b[0m\u001b[1;33m\u001b[0m\u001b[1;33m\u001b[0m\u001b[0m\n\u001b[1;32m----> 3\u001b[1;33m \u001b[0msorted\u001b[0m\u001b[1;33m(\u001b[0m\u001b[0mmixed_types\u001b[0m\u001b[1;33m)\u001b[0m\u001b[1;33m\u001b[0m\u001b[1;33m\u001b[0m\u001b[0m\n\u001b[0m",
      "\u001b[1;31mTypeError\u001b[0m: '<' not supported between instances of 'int' and 'str'"
     ]
    }
   ],
   "metadata": {}
  },
  {
   "cell_type": "code",
   "execution_count": null,
   "source": [
    "similar_values = [False, 0, 1, 'A' == 'B', 1 <= 0]\r\n",
    "sorted(similar_values)          # <--  sort stability: Khi các giá trị bằng nhau chúng được giữ nguyên thứ tự"
   ],
   "outputs": [],
   "metadata": {}
  },
  {
   "cell_type": "code",
   "execution_count": null,
   "source": [
    "names_with_case = ['harry', 'Suzy', 'al', 'Mark']\r\n",
    "sorted(names_with_case)"
   ],
   "outputs": [],
   "metadata": {}
  },
  {
   "cell_type": "code",
   "execution_count": null,
   "source": [
    "list_ans = []\r\n",
    "for name in sorted(names_with_case):\r\n",
    "    list_ans.append((ord(name[0]), name[0]))\r\n",
    "list_ans"
   ],
   "outputs": [],
   "metadata": {}
  },
  {
   "cell_type": "markdown",
   "source": [
    "Vậy còn trường hợp các ký tự giống nhau hết thì sao? vd ['hhhh', 'hh', 'hhhhh','h'] hay ['hhhhhd', 'hhhhha', 'hhhhhc','hhhhhb']"
   ],
   "metadata": {}
  },
  {
   "cell_type": "markdown",
   "source": [
    "## Functional programming"
   ],
   "metadata": {}
  },
  {
   "cell_type": "code",
   "execution_count": null,
   "source": [
    "sorted(logistic_centers)"
   ],
   "outputs": [],
   "metadata": {}
  },
  {
   "cell_type": "code",
   "execution_count": null,
   "source": [
    "sorted(logistic_centers, key=len)       # <--- len is a callback"
   ],
   "outputs": [],
   "metadata": {}
  },
  {
   "cell_type": "code",
   "execution_count": null,
   "source": [
    "def reverse_len(s):\r\n",
    "    return -len(s)\r\n",
    "\r\n",
    "sorted(logistic_centers, key=reverse_len)"
   ],
   "outputs": [],
   "metadata": {}
  },
  {
   "cell_type": "code",
   "execution_count": null,
   "source": [
    "names_with_case = ['harry', 'Suzy', 'al', 'Mark']\r\n",
    "sorted(names_with_case)"
   ],
   "outputs": [],
   "metadata": {}
  },
  {
   "cell_type": "code",
   "execution_count": null,
   "source": [
    "sorted(names_with_case, key=str.lower)"
   ],
   "outputs": [],
   "metadata": {}
  },
  {
   "cell_type": "code",
   "execution_count": null,
   "source": [
    "# 1st limitation\r\n",
    "def add(x, y):\r\n",
    "    return x + y\r\n",
    "values_to_add = [1, 2, 3]\r\n",
    "sorted(values_to_add, key=add)"
   ],
   "outputs": [],
   "metadata": {}
  },
  {
   "cell_type": "code",
   "execution_count": null,
   "source": [
    "# 2nd limitation\r\n",
    "values_to_cast = ['1', '2', '3', 'four']\r\n",
    "sorted(values_to_cast, key=int)"
   ],
   "outputs": [],
   "metadata": {}
  },
  {
   "cell_type": "code",
   "execution_count": null,
   "source": [
    "sorted(names_with_case, key=lambda x: x[::-1])"
   ],
   "outputs": [],
   "metadata": {}
  },
  {
   "cell_type": "code",
   "execution_count": null,
   "source": [
    "def reverse_word(word):\r\n",
    "    return word[::-1]\r\n",
    "\r\n",
    "print(sorted(names_with_case))\r\n",
    "sorted(names_with_case, key=reverse_word)"
   ],
   "outputs": [],
   "metadata": {}
  },
  {
   "cell_type": "markdown",
   "source": [
    "### Lambda function\r\n",
    "A lambda là một hàm không tên (anonymous function) mà:\r\n",
    "* Phải được định nghĩa tại chỗ\r\n",
    "* Không có tên\r\n",
    "* Không được chứa các câu lệnh riêng\r\n",
    "* Được thực thi như một hàm bình thường"
   ],
   "metadata": {}
  },
  {
   "cell_type": "code",
   "execution_count": null,
   "source": [
    "sorted(names_with_case, key=lambda x: x[::-1])"
   ],
   "outputs": [],
   "metadata": {}
  },
  {
   "cell_type": "code",
   "execution_count": null,
   "source": [
    "from collections import namedtuple\r\n",
    "\r\n",
    "Stock = namedtuple(\"Stock\", [\"symbol\", \"current\", \"high\", \"low\"])\r\n",
    "stock1 = Stock(\"CTG\", 32, high=42, low=19.1)\r\n",
    "stock2 = Stock(\"MBB\", 27.46, high=32.2, low=11.4)\r\n",
    "stock3 = Stock(\"ACB\", 32.16, high=38.2, low=16.5)\r\n",
    "VNIndex = [stock1, stock2, stock3]\r\n",
    "sorted(VNIndex, key=lambda x: getattr(x, 'high'), reverse=True)"
   ],
   "outputs": [],
   "metadata": {}
  },
  {
   "cell_type": "code",
   "execution_count": null,
   "source": [
    "prices = [1938098, 28485204, 29485772, 55838438]\r\n",
    "types = ['Product']*4\r\n",
    "final_prices = map(calculate_VAT, prices, types)\r\n",
    "list(final_prices)"
   ],
   "outputs": [],
   "metadata": {}
  },
  {
   "cell_type": "markdown",
   "source": [
    "### .sort()\r\n",
    "\r\n",
    "Chỉ có trong kiểu list và sắp xếp inplace"
   ],
   "metadata": {}
  }
 ],
 "metadata": {
  "orig_nbformat": 4,
  "language_info": {
   "name": "python",
   "version": "3.7.8",
   "mimetype": "text/x-python",
   "codemirror_mode": {
    "name": "ipython",
    "version": 3
   },
   "pygments_lexer": "ipython3",
   "nbconvert_exporter": "python",
   "file_extension": ".py"
  },
  "kernelspec": {
   "name": "python3",
   "display_name": "Python 3.7.8 64-bit"
  },
  "interpreter": {
   "hash": "04635d289a519a1410467dd0afb0db42f9184808881ca68b2eb5a687a20a5a94"
  }
 },
 "nbformat": 4,
 "nbformat_minor": 2
}